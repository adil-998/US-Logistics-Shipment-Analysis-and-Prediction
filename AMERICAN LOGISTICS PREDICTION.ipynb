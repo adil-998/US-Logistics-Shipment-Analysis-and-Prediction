{
 "cells": [
  {
   "cell_type": "code",
   "execution_count": 48,
   "id": "02ae528f-6972-42a2-aa33-a92a045faede",
   "metadata": {},
   "outputs": [],
   "source": [
    "import pandas as pd\n",
    "import numpy as np\n",
    "import matplotlib.pyplot as plt\n",
    "import seaborn as sns \n",
    "from scipy import stats\n",
    "from scipy.stats import ttest_ind\n",
    "from sklearn.model_selection import train_test_split#for training and spliting the model and also testing\n",
    "from sklearn.ensemble import RandomForestRegressor#for the model \n",
    "from sklearn.metrics import mean_squared_error,r2_score,mean_absolute_error#metrics to analyze the data\n",
    "from sklearn.linear_model import LinearRegression#for the model"
   ]
  },
  {
   "cell_type": "code",
   "execution_count": 49,
   "id": "f3c9406b-d064-4ada-a85a-2690ddf11fdd",
   "metadata": {},
   "outputs": [],
   "source": [
    "df=pd.read_csv(\"\\\\Users\\\\adilm\\\\Downloads\\\\archive (41)\\\\logistics_shipments_dataset.csv\")"
   ]
  },
  {
   "cell_type": "code",
   "execution_count": 50,
   "id": "4ea0b942-3fc0-4cbb-8e84-2f025afe0c83",
   "metadata": {},
   "outputs": [
    {
     "data": {
      "text/html": [
       "<div>\n",
       "<style scoped>\n",
       "    .dataframe tbody tr th:only-of-type {\n",
       "        vertical-align: middle;\n",
       "    }\n",
       "\n",
       "    .dataframe tbody tr th {\n",
       "        vertical-align: top;\n",
       "    }\n",
       "\n",
       "    .dataframe thead th {\n",
       "        text-align: right;\n",
       "    }\n",
       "</style>\n",
       "<table border=\"1\" class=\"dataframe\">\n",
       "  <thead>\n",
       "    <tr style=\"text-align: right;\">\n",
       "      <th></th>\n",
       "      <th>Shipment_ID</th>\n",
       "      <th>Origin_Warehouse</th>\n",
       "      <th>Destination</th>\n",
       "      <th>Carrier</th>\n",
       "      <th>Shipment_Date</th>\n",
       "      <th>Delivery_Date</th>\n",
       "      <th>Weight_kg</th>\n",
       "      <th>Cost</th>\n",
       "      <th>Status</th>\n",
       "      <th>Distance_miles</th>\n",
       "      <th>Transit_Days</th>\n",
       "    </tr>\n",
       "  </thead>\n",
       "  <tbody>\n",
       "    <tr>\n",
       "      <th>0</th>\n",
       "      <td>SH10000</td>\n",
       "      <td>Warehouse_MIA</td>\n",
       "      <td>San Francisco</td>\n",
       "      <td>UPS</td>\n",
       "      <td>2023-10-02</td>\n",
       "      <td>2023-10-04</td>\n",
       "      <td>25.7</td>\n",
       "      <td>67.46</td>\n",
       "      <td>Delivered</td>\n",
       "      <td>291</td>\n",
       "      <td>2</td>\n",
       "    </tr>\n",
       "    <tr>\n",
       "      <th>1</th>\n",
       "      <td>SH10001</td>\n",
       "      <td>Warehouse_MIA</td>\n",
       "      <td>Atlanta</td>\n",
       "      <td>DHL</td>\n",
       "      <td>2023-12-06</td>\n",
       "      <td>2023-12-09</td>\n",
       "      <td>38.9</td>\n",
       "      <td>268.85</td>\n",
       "      <td>Delivered</td>\n",
       "      <td>1225</td>\n",
       "      <td>3</td>\n",
       "    </tr>\n",
       "    <tr>\n",
       "      <th>2</th>\n",
       "      <td>SH10002</td>\n",
       "      <td>Warehouse_LA</td>\n",
       "      <td>Houston</td>\n",
       "      <td>DHL</td>\n",
       "      <td>2023-09-18</td>\n",
       "      <td>2023-09-20</td>\n",
       "      <td>37.2</td>\n",
       "      <td>74.35</td>\n",
       "      <td>Delivered</td>\n",
       "      <td>220</td>\n",
       "      <td>2</td>\n",
       "    </tr>\n",
       "    <tr>\n",
       "      <th>3</th>\n",
       "      <td>SH10003</td>\n",
       "      <td>Warehouse_BOS</td>\n",
       "      <td>Seattle</td>\n",
       "      <td>OnTrac</td>\n",
       "      <td>2023-01-26</td>\n",
       "      <td>2023-02-04</td>\n",
       "      <td>42.6</td>\n",
       "      <td>187.04</td>\n",
       "      <td>Delivered</td>\n",
       "      <td>1156</td>\n",
       "      <td>9</td>\n",
       "    </tr>\n",
       "    <tr>\n",
       "      <th>4</th>\n",
       "      <td>SH10004</td>\n",
       "      <td>Warehouse_SF</td>\n",
       "      <td>Dallas</td>\n",
       "      <td>OnTrac</td>\n",
       "      <td>2023-06-03</td>\n",
       "      <td>2023-06-06</td>\n",
       "      <td>7.9</td>\n",
       "      <td>120.01</td>\n",
       "      <td>Delivered</td>\n",
       "      <td>1017</td>\n",
       "      <td>3</td>\n",
       "    </tr>\n",
       "  </tbody>\n",
       "</table>\n",
       "</div>"
      ],
      "text/plain": [
       "  Shipment_ID Origin_Warehouse    Destination Carrier Shipment_Date  \\\n",
       "0     SH10000    Warehouse_MIA  San Francisco     UPS    2023-10-02   \n",
       "1     SH10001    Warehouse_MIA        Atlanta     DHL    2023-12-06   \n",
       "2     SH10002     Warehouse_LA        Houston     DHL    2023-09-18   \n",
       "3     SH10003    Warehouse_BOS        Seattle  OnTrac    2023-01-26   \n",
       "4     SH10004     Warehouse_SF         Dallas  OnTrac    2023-06-03   \n",
       "\n",
       "  Delivery_Date  Weight_kg    Cost     Status  Distance_miles  Transit_Days  \n",
       "0    2023-10-04       25.7   67.46  Delivered             291             2  \n",
       "1    2023-12-09       38.9  268.85  Delivered            1225             3  \n",
       "2    2023-09-20       37.2   74.35  Delivered             220             2  \n",
       "3    2023-02-04       42.6  187.04  Delivered            1156             9  \n",
       "4    2023-06-06        7.9  120.01  Delivered            1017             3  "
      ]
     },
     "execution_count": 50,
     "metadata": {},
     "output_type": "execute_result"
    }
   ],
   "source": [
    "df.head(5)"
   ]
  },
  {
   "cell_type": "code",
   "execution_count": null,
   "id": "f7f06399-f5ca-4882-a787-b86de5582de4",
   "metadata": {},
   "outputs": [],
   "source": []
  },
  {
   "cell_type": "code",
   "execution_count": 51,
   "id": "9f15116f-8128-492e-928e-d1ca81817143",
   "metadata": {},
   "outputs": [
    {
     "data": {
      "text/plain": [
       "(2000, 11)"
      ]
     },
     "execution_count": 51,
     "metadata": {},
     "output_type": "execute_result"
    }
   ],
   "source": [
    "df.shape"
   ]
  },
  {
   "cell_type": "code",
   "execution_count": 52,
   "id": "fc867999-ea43-4a57-8dd8-357eaa1b60d2",
   "metadata": {},
   "outputs": [
    {
     "name": "stdout",
     "output_type": "stream",
     "text": [
      "<class 'pandas.core.frame.DataFrame'>\n",
      "RangeIndex: 2000 entries, 0 to 1999\n",
      "Data columns (total 11 columns):\n",
      " #   Column            Non-Null Count  Dtype  \n",
      "---  ------            --------------  -----  \n",
      " 0   Shipment_ID       2000 non-null   object \n",
      " 1   Origin_Warehouse  2000 non-null   object \n",
      " 2   Destination       2000 non-null   object \n",
      " 3   Carrier           2000 non-null   object \n",
      " 4   Shipment_Date     2000 non-null   object \n",
      " 5   Delivery_Date     1968 non-null   object \n",
      " 6   Weight_kg         2000 non-null   float64\n",
      " 7   Cost              1959 non-null   float64\n",
      " 8   Status            2000 non-null   object \n",
      " 9   Distance_miles    2000 non-null   int64  \n",
      " 10  Transit_Days      2000 non-null   int64  \n",
      "dtypes: float64(2), int64(2), object(7)\n",
      "memory usage: 172.0+ KB\n"
     ]
    }
   ],
   "source": [
    "df.info()"
   ]
  },
  {
   "cell_type": "code",
   "execution_count": 53,
   "id": "d3175a6d-edae-40a3-bbb3-af2bb82befce",
   "metadata": {},
   "outputs": [],
   "source": [
    "df['Shipment_Date']=pd.to_datetime(df['Shipment_Date'],format='mixed',errors='coerce')"
   ]
  },
  {
   "cell_type": "code",
   "execution_count": 54,
   "id": "78c33adc-ab21-49fe-83e2-f1572e913155",
   "metadata": {},
   "outputs": [],
   "source": [
    "df['Delivery_Date'] = pd.to_datetime(df['Delivery_Date'], format='mixed', errors='coerce') "
   ]
  },
  {
   "cell_type": "code",
   "execution_count": 55,
   "id": "bfb02ed4-ce79-42e0-a7dc-7a35669167e4",
   "metadata": {},
   "outputs": [],
   "source": [
    "df['Shipment_ID']=df['Shipment_ID'].str.replace(\"SH\",\"\",regex=False)"
   ]
  },
  {
   "cell_type": "code",
   "execution_count": 56,
   "id": "71a0e182-2076-4717-ba1c-2f499514639e",
   "metadata": {},
   "outputs": [],
   "source": [
    "df['Shipment_ID']=df['Shipment_ID'].astype(int)"
   ]
  },
  {
   "cell_type": "code",
   "execution_count": 57,
   "id": "d0d4fa3c-7f59-464c-94a1-0d5a0177e711",
   "metadata": {},
   "outputs": [
    {
     "data": {
      "text/plain": [
       "Shipment_ID          0\n",
       "Origin_Warehouse     0\n",
       "Destination          0\n",
       "Carrier              0\n",
       "Shipment_Date        0\n",
       "Delivery_Date       32\n",
       "Weight_kg            0\n",
       "Cost                41\n",
       "Status               0\n",
       "Distance_miles       0\n",
       "Transit_Days         0\n",
       "dtype: int64"
      ]
     },
     "execution_count": 57,
     "metadata": {},
     "output_type": "execute_result"
    }
   ],
   "source": [
    "df.isna().sum()"
   ]
  },
  {
   "cell_type": "code",
   "execution_count": null,
   "id": "a3b2c9b6-4145-4f7e-a0c3-1fba5a21bd8f",
   "metadata": {},
   "outputs": [],
   "source": []
  },
  {
   "cell_type": "code",
   "execution_count": 58,
   "id": "ff4bafa2-626e-4c13-8782-2969bd09a6b3",
   "metadata": {},
   "outputs": [],
   "source": [
    "df['Transit_days']=pd.to_timedelta(df['Transit_Days'],unit='D')"
   ]
  },
  {
   "cell_type": "code",
   "execution_count": 59,
   "id": "1dbe66dc-8683-429d-a830-3136723d4ebd",
   "metadata": {},
   "outputs": [],
   "source": [
    "df['Delivery_Date'] = df['Delivery_Date'].fillna(\n",
    "    df['Shipment_Date']+df['Transit_days'])"
   ]
  },
  {
   "cell_type": "code",
   "execution_count": 60,
   "id": "3e9c9928-73e2-4c48-8529-035caa13a6ba",
   "metadata": {},
   "outputs": [],
   "source": [
    "df['Cost']=df['Cost'].fillna(df['Cost'].median())"
   ]
  },
  {
   "cell_type": "code",
   "execution_count": 61,
   "id": "224db460-0197-41d5-88d5-dff98d96ea74",
   "metadata": {},
   "outputs": [
    {
     "data": {
      "text/html": [
       "<div>\n",
       "<style scoped>\n",
       "    .dataframe tbody tr th:only-of-type {\n",
       "        vertical-align: middle;\n",
       "    }\n",
       "\n",
       "    .dataframe tbody tr th {\n",
       "        vertical-align: top;\n",
       "    }\n",
       "\n",
       "    .dataframe thead th {\n",
       "        text-align: right;\n",
       "    }\n",
       "</style>\n",
       "<table border=\"1\" class=\"dataframe\">\n",
       "  <thead>\n",
       "    <tr style=\"text-align: right;\">\n",
       "      <th></th>\n",
       "      <th>Shipment_ID</th>\n",
       "      <th>Shipment_Date</th>\n",
       "      <th>Delivery_Date</th>\n",
       "      <th>Weight_kg</th>\n",
       "      <th>Cost</th>\n",
       "      <th>Distance_miles</th>\n",
       "      <th>Transit_Days</th>\n",
       "      <th>Transit_days</th>\n",
       "    </tr>\n",
       "  </thead>\n",
       "  <tbody>\n",
       "    <tr>\n",
       "      <th>count</th>\n",
       "      <td>2000.000000</td>\n",
       "      <td>2000</td>\n",
       "      <td>2000</td>\n",
       "      <td>2000.000000</td>\n",
       "      <td>2000.000000</td>\n",
       "      <td>2000.000000</td>\n",
       "      <td>2000.000000</td>\n",
       "      <td>2000</td>\n",
       "    </tr>\n",
       "    <tr>\n",
       "      <th>mean</th>\n",
       "      <td>10999.500000</td>\n",
       "      <td>2023-07-05 12:00:00</td>\n",
       "      <td>2023-07-10 02:32:38.400000256</td>\n",
       "      <td>30.184800</td>\n",
       "      <td>204.982395</td>\n",
       "      <td>1275.868000</td>\n",
       "      <td>4.182500</td>\n",
       "      <td>4 days 04:22:48</td>\n",
       "    </tr>\n",
       "    <tr>\n",
       "      <th>min</th>\n",
       "      <td>10000.000000</td>\n",
       "      <td>2023-01-01 00:00:00</td>\n",
       "      <td>2023-01-03 00:00:00</td>\n",
       "      <td>0.000000</td>\n",
       "      <td>17.890000</td>\n",
       "      <td>101.000000</td>\n",
       "      <td>1.000000</td>\n",
       "      <td>1 days 00:00:00</td>\n",
       "    </tr>\n",
       "    <tr>\n",
       "      <th>25%</th>\n",
       "      <td>10499.750000</td>\n",
       "      <td>2023-04-05 18:00:00</td>\n",
       "      <td>2023-04-11 00:00:00</td>\n",
       "      <td>12.300000</td>\n",
       "      <td>119.220000</td>\n",
       "      <td>690.250000</td>\n",
       "      <td>3.000000</td>\n",
       "      <td>3 days 00:00:00</td>\n",
       "    </tr>\n",
       "    <tr>\n",
       "      <th>50%</th>\n",
       "      <td>10999.500000</td>\n",
       "      <td>2023-07-07 00:00:00</td>\n",
       "      <td>2023-07-11 12:00:00</td>\n",
       "      <td>20.700000</td>\n",
       "      <td>196.420000</td>\n",
       "      <td>1262.500000</td>\n",
       "      <td>4.000000</td>\n",
       "      <td>4 days 00:00:00</td>\n",
       "    </tr>\n",
       "    <tr>\n",
       "      <th>75%</th>\n",
       "      <td>11499.250000</td>\n",
       "      <td>2023-10-04 00:00:00</td>\n",
       "      <td>2023-10-08 00:00:00</td>\n",
       "      <td>33.925000</td>\n",
       "      <td>271.450000</td>\n",
       "      <td>1867.250000</td>\n",
       "      <td>5.000000</td>\n",
       "      <td>5 days 00:00:00</td>\n",
       "    </tr>\n",
       "    <tr>\n",
       "      <th>max</th>\n",
       "      <td>11999.000000</td>\n",
       "      <td>2023-12-31 00:00:00</td>\n",
       "      <td>2024-01-12 00:00:00</td>\n",
       "      <td>5404.200000</td>\n",
       "      <td>6562.210000</td>\n",
       "      <td>2499.000000</td>\n",
       "      <td>12.000000</td>\n",
       "      <td>12 days 00:00:00</td>\n",
       "    </tr>\n",
       "    <tr>\n",
       "      <th>std</th>\n",
       "      <td>577.494589</td>\n",
       "      <td>NaN</td>\n",
       "      <td>NaN</td>\n",
       "      <td>124.967053</td>\n",
       "      <td>220.295092</td>\n",
       "      <td>691.382829</td>\n",
       "      <td>1.837902</td>\n",
       "      <td>1 days 20:06:34.707643509</td>\n",
       "    </tr>\n",
       "  </tbody>\n",
       "</table>\n",
       "</div>"
      ],
      "text/plain": [
       "        Shipment_ID        Shipment_Date                  Delivery_Date  \\\n",
       "count   2000.000000                 2000                           2000   \n",
       "mean   10999.500000  2023-07-05 12:00:00  2023-07-10 02:32:38.400000256   \n",
       "min    10000.000000  2023-01-01 00:00:00            2023-01-03 00:00:00   \n",
       "25%    10499.750000  2023-04-05 18:00:00            2023-04-11 00:00:00   \n",
       "50%    10999.500000  2023-07-07 00:00:00            2023-07-11 12:00:00   \n",
       "75%    11499.250000  2023-10-04 00:00:00            2023-10-08 00:00:00   \n",
       "max    11999.000000  2023-12-31 00:00:00            2024-01-12 00:00:00   \n",
       "std      577.494589                  NaN                            NaN   \n",
       "\n",
       "         Weight_kg         Cost  Distance_miles  Transit_Days  \\\n",
       "count  2000.000000  2000.000000     2000.000000   2000.000000   \n",
       "mean     30.184800   204.982395     1275.868000      4.182500   \n",
       "min       0.000000    17.890000      101.000000      1.000000   \n",
       "25%      12.300000   119.220000      690.250000      3.000000   \n",
       "50%      20.700000   196.420000     1262.500000      4.000000   \n",
       "75%      33.925000   271.450000     1867.250000      5.000000   \n",
       "max    5404.200000  6562.210000     2499.000000     12.000000   \n",
       "std     124.967053   220.295092      691.382829      1.837902   \n",
       "\n",
       "                    Transit_days  \n",
       "count                       2000  \n",
       "mean             4 days 04:22:48  \n",
       "min              1 days 00:00:00  \n",
       "25%              3 days 00:00:00  \n",
       "50%              4 days 00:00:00  \n",
       "75%              5 days 00:00:00  \n",
       "max             12 days 00:00:00  \n",
       "std    1 days 20:06:34.707643509  "
      ]
     },
     "execution_count": 61,
     "metadata": {},
     "output_type": "execute_result"
    }
   ],
   "source": [
    "df.describe()"
   ]
  },
  {
   "cell_type": "code",
   "execution_count": 62,
   "id": "e10eb0a9-3127-4c2f-b1cf-db97024ff419",
   "metadata": {},
   "outputs": [
    {
     "data": {
      "image/png": "[encoded data removed]",
      "text/plain": [
       "<Figure size 700x200 with 1 Axes>"
      ]
     },
     "metadata": {},
     "output_type": "display_data"
    }
   ],
   "source": [
    "plt.figure(figsize=(7,2))\n",
    "sns.boxplot(data=None,x=df['Weight_kg'],fliersize=1)\n",
    "plt.xlabel(\"weight\",fontsize=12)\n",
    "plt.title(\"outlier detection in weight\",fontsize=14)\n",
    "plt.show()"
   ]
  },
  {
   "cell_type": "code",
   "execution_count": 63,
   "id": "98e56763-4958-4543-a27a-5eebc0c45670",
   "metadata": {},
   "outputs": [],
   "source": [
    "Q1=df['Weight_kg'].quantile(0.25)\n",
    "Q3=df['Weight_kg'].quantile(0.75)\n",
    "IQR=Q3-Q1\n",
    "lower_bond=Q1-1.5*IQR\n",
    "upper_bond=Q3+1.5*IQR\n",
    "df=df[(df['Weight_kg']>=lower_bond)&(df['Weight_kg']<=upper_bond)]"
   ]
  },
  {
   "cell_type": "code",
   "execution_count": null,
   "id": "43633ae3-fa29-4d5f-a233-313d231c90b2",
   "metadata": {},
   "outputs": [],
   "source": []
  },
  {
   "cell_type": "code",
   "execution_count": 64,
   "id": "527e4d98-4d4f-4b87-983f-40276ef21d30",
   "metadata": {},
   "outputs": [
    {
     "data": {
      "text/html": [
       "<div>\n",
       "<style scoped>\n",
       "    .dataframe tbody tr th:only-of-type {\n",
       "        vertical-align: middle;\n",
       "    }\n",
       "\n",
       "    .dataframe tbody tr th {\n",
       "        vertical-align: top;\n",
       "    }\n",
       "\n",
       "    .dataframe thead th {\n",
       "        text-align: right;\n",
       "    }\n",
       "</style>\n",
       "<table border=\"1\" class=\"dataframe\">\n",
       "  <thead>\n",
       "    <tr style=\"text-align: right;\">\n",
       "      <th></th>\n",
       "      <th>Shipment_ID</th>\n",
       "      <th>Origin_Warehouse</th>\n",
       "      <th>Destination</th>\n",
       "      <th>Carrier</th>\n",
       "      <th>Shipment_Date</th>\n",
       "      <th>Delivery_Date</th>\n",
       "      <th>Weight_kg</th>\n",
       "      <th>Cost</th>\n",
       "      <th>Status</th>\n",
       "      <th>Distance_miles</th>\n",
       "      <th>Transit_Days</th>\n",
       "      <th>Transit_days</th>\n",
       "    </tr>\n",
       "  </thead>\n",
       "  <tbody>\n",
       "    <tr>\n",
       "      <th>829</th>\n",
       "      <td>10829</td>\n",
       "      <td>Warehouse_CHI</td>\n",
       "      <td>Detroit</td>\n",
       "      <td>OnTrac</td>\n",
       "      <td>2023-02-03</td>\n",
       "      <td>2023-02-04</td>\n",
       "      <td>0.0</td>\n",
       "      <td>35.85</td>\n",
       "      <td>Delivered</td>\n",
       "      <td>283</td>\n",
       "      <td>1</td>\n",
       "      <td>1 days</td>\n",
       "    </tr>\n",
       "  </tbody>\n",
       "</table>\n",
       "</div>"
      ],
      "text/plain": [
       "     Shipment_ID Origin_Warehouse Destination Carrier Shipment_Date  \\\n",
       "829        10829    Warehouse_CHI     Detroit  OnTrac    2023-02-03   \n",
       "\n",
       "    Delivery_Date  Weight_kg   Cost     Status  Distance_miles  Transit_Days  \\\n",
       "829    2023-02-04        0.0  35.85  Delivered             283             1   \n",
       "\n",
       "    Transit_days  \n",
       "829       1 days  "
      ]
     },
     "execution_count": 64,
     "metadata": {},
     "output_type": "execute_result"
    }
   ],
   "source": [
    "df[df['Weight_kg'] == 0]"
   ]
  },
  {
   "cell_type": "code",
   "execution_count": 65,
   "id": "cce762bc-280a-4671-b051-cbe4e933ada0",
   "metadata": {},
   "outputs": [],
   "source": [
    "df = df.drop(df[df['Weight_kg'] == 0].index)"
   ]
  },
  {
   "cell_type": "code",
   "execution_count": 66,
   "id": "ec1c7e4d-cabb-4d30-83b9-42352444d668",
   "metadata": {},
   "outputs": [
    {
     "data": {
      "text/html": [
       "<div>\n",
       "<style scoped>\n",
       "    .dataframe tbody tr th:only-of-type {\n",
       "        vertical-align: middle;\n",
       "    }\n",
       "\n",
       "    .dataframe tbody tr th {\n",
       "        vertical-align: top;\n",
       "    }\n",
       "\n",
       "    .dataframe thead th {\n",
       "        text-align: right;\n",
       "    }\n",
       "</style>\n",
       "<table border=\"1\" class=\"dataframe\">\n",
       "  <thead>\n",
       "    <tr style=\"text-align: right;\">\n",
       "      <th></th>\n",
       "      <th>Shipment_ID</th>\n",
       "      <th>Shipment_Date</th>\n",
       "      <th>Delivery_Date</th>\n",
       "      <th>Weight_kg</th>\n",
       "      <th>Cost</th>\n",
       "      <th>Distance_miles</th>\n",
       "      <th>Transit_Days</th>\n",
       "      <th>Transit_days</th>\n",
       "    </tr>\n",
       "  </thead>\n",
       "  <tbody>\n",
       "    <tr>\n",
       "      <th>count</th>\n",
       "      <td>1888.000000</td>\n",
       "      <td>1888</td>\n",
       "      <td>1888</td>\n",
       "      <td>1888.000000</td>\n",
       "      <td>1888.000000</td>\n",
       "      <td>1888.000000</td>\n",
       "      <td>1888.000000</td>\n",
       "      <td>1888</td>\n",
       "    </tr>\n",
       "    <tr>\n",
       "      <th>mean</th>\n",
       "      <td>10996.656780</td>\n",
       "      <td>2023-07-05 20:16:31.525423616</td>\n",
       "      <td>2023-07-10 10:10:55.932203520</td>\n",
       "      <td>22.890042</td>\n",
       "      <td>201.246912</td>\n",
       "      <td>1274.597987</td>\n",
       "      <td>4.174258</td>\n",
       "      <td>4 days 04:10:55.932203389</td>\n",
       "    </tr>\n",
       "    <tr>\n",
       "      <th>min</th>\n",
       "      <td>10000.000000</td>\n",
       "      <td>2023-01-01 00:00:00</td>\n",
       "      <td>2023-01-03 00:00:00</td>\n",
       "      <td>0.200000</td>\n",
       "      <td>17.890000</td>\n",
       "      <td>101.000000</td>\n",
       "      <td>1.000000</td>\n",
       "      <td>1 days 00:00:00</td>\n",
       "    </tr>\n",
       "    <tr>\n",
       "      <th>25%</th>\n",
       "      <td>10493.750000</td>\n",
       "      <td>2023-04-06 00:00:00</td>\n",
       "      <td>2023-04-11 00:00:00</td>\n",
       "      <td>11.900000</td>\n",
       "      <td>115.667500</td>\n",
       "      <td>677.000000</td>\n",
       "      <td>3.000000</td>\n",
       "      <td>3 days 00:00:00</td>\n",
       "    </tr>\n",
       "    <tr>\n",
       "      <th>50%</th>\n",
       "      <td>10996.500000</td>\n",
       "      <td>2023-07-07 00:00:00</td>\n",
       "      <td>2023-07-11 00:00:00</td>\n",
       "      <td>19.700000</td>\n",
       "      <td>195.375000</td>\n",
       "      <td>1262.500000</td>\n",
       "      <td>4.000000</td>\n",
       "      <td>4 days 00:00:00</td>\n",
       "    </tr>\n",
       "    <tr>\n",
       "      <th>75%</th>\n",
       "      <td>11499.250000</td>\n",
       "      <td>2023-10-04 00:00:00</td>\n",
       "      <td>2023-10-09 00:00:00</td>\n",
       "      <td>30.600000</td>\n",
       "      <td>266.697500</td>\n",
       "      <td>1866.000000</td>\n",
       "      <td>5.000000</td>\n",
       "      <td>5 days 00:00:00</td>\n",
       "    </tr>\n",
       "    <tr>\n",
       "      <th>max</th>\n",
       "      <td>11999.000000</td>\n",
       "      <td>2023-12-31 00:00:00</td>\n",
       "      <td>2024-01-12 00:00:00</td>\n",
       "      <td>66.300000</td>\n",
       "      <td>6562.210000</td>\n",
       "      <td>2499.000000</td>\n",
       "      <td>12.000000</td>\n",
       "      <td>12 days 00:00:00</td>\n",
       "    </tr>\n",
       "    <tr>\n",
       "      <th>std</th>\n",
       "      <td>578.400846</td>\n",
       "      <td>NaN</td>\n",
       "      <td>NaN</td>\n",
       "      <td>13.822215</td>\n",
       "      <td>224.938005</td>\n",
       "      <td>691.101034</td>\n",
       "      <td>1.833514</td>\n",
       "      <td>1 days 20:00:15.637081187</td>\n",
       "    </tr>\n",
       "  </tbody>\n",
       "</table>\n",
       "</div>"
      ],
      "text/plain": [
       "        Shipment_ID                  Shipment_Date  \\\n",
       "count   1888.000000                           1888   \n",
       "mean   10996.656780  2023-07-05 20:16:31.525423616   \n",
       "min    10000.000000            2023-01-01 00:00:00   \n",
       "25%    10493.750000            2023-04-06 00:00:00   \n",
       "50%    10996.500000            2023-07-07 00:00:00   \n",
       "75%    11499.250000            2023-10-04 00:00:00   \n",
       "max    11999.000000            2023-12-31 00:00:00   \n",
       "std      578.400846                            NaN   \n",
       "\n",
       "                       Delivery_Date    Weight_kg         Cost  \\\n",
       "count                           1888  1888.000000  1888.000000   \n",
       "mean   2023-07-10 10:10:55.932203520    22.890042   201.246912   \n",
       "min              2023-01-03 00:00:00     0.200000    17.890000   \n",
       "25%              2023-04-11 00:00:00    11.900000   115.667500   \n",
       "50%              2023-07-11 00:00:00    19.700000   195.375000   \n",
       "75%              2023-10-09 00:00:00    30.600000   266.697500   \n",
       "max              2024-01-12 00:00:00    66.300000  6562.210000   \n",
       "std                              NaN    13.822215   224.938005   \n",
       "\n",
       "       Distance_miles  Transit_Days               Transit_days  \n",
       "count     1888.000000   1888.000000                       1888  \n",
       "mean      1274.597987      4.174258  4 days 04:10:55.932203389  \n",
       "min        101.000000      1.000000            1 days 00:00:00  \n",
       "25%        677.000000      3.000000            3 days 00:00:00  \n",
       "50%       1262.500000      4.000000            4 days 00:00:00  \n",
       "75%       1866.000000      5.000000            5 days 00:00:00  \n",
       "max       2499.000000     12.000000           12 days 00:00:00  \n",
       "std        691.101034      1.833514  1 days 20:00:15.637081187  "
      ]
     },
     "execution_count": 66,
     "metadata": {},
     "output_type": "execute_result"
    }
   ],
   "source": [
    "df.describe()"
   ]
  },
  {
   "cell_type": "code",
   "execution_count": 67,
   "id": "61d71326-2f39-4f68-b222-55837b0a9592",
   "metadata": {},
   "outputs": [
    {
     "data": {
      "image/png": "[encoded data removed]",
      "text/plain": [
       "<Figure size 700x200 with 1 Axes>"
      ]
     },
     "metadata": {},
     "output_type": "display_data"
    }
   ],
   "source": [
    "plt.figure(figsize=(7,2))\n",
    "sns.boxplot(data=None,x=df['Cost'],fliersize=1)\n",
    "plt.xlabel(\"Cost\",fontsize=12)\n",
    "plt.title(\"outlier detection in Cost\",fontsize=14)\n",
    "plt.show()"
   ]
  },
  {
   "cell_type": "code",
   "execution_count": 68,
   "id": "fb5756f0-b916-4ddf-816a-13d04f7b9fc0",
   "metadata": {},
   "outputs": [],
   "source": [
    "Q1=df['Cost'].quantile(0.25)\n",
    "Q3=df['Cost'].quantile(0.75)\n",
    "IQR=Q3-Q1\n",
    "lower_bond=Q1-1.5*IQR\n",
    "upper_bond=Q3+1.5*IQR\n",
    "df=df[(df['Cost']>=lower_bond)&(df['Cost']<=upper_bond)]"
   ]
  },
  {
   "cell_type": "code",
   "execution_count": 69,
   "id": "6d46c796-ceb4-4750-9e27-73ab4c27e94a",
   "metadata": {},
   "outputs": [
    {
     "data": {
      "text/plain": [
       "0"
      ]
     },
     "execution_count": 69,
     "metadata": {},
     "output_type": "execute_result"
    }
   ],
   "source": [
    "df.duplicated().sum()#no dupliactes in data set "
   ]
  },
  {
   "cell_type": "code",
   "execution_count": 70,
   "id": "6b56bb69-b16c-456c-9ed1-3ba0646ac05a",
   "metadata": {},
   "outputs": [
    {
     "data": {
      "text/html": [
       "<div>\n",
       "<style scoped>\n",
       "    .dataframe tbody tr th:only-of-type {\n",
       "        vertical-align: middle;\n",
       "    }\n",
       "\n",
       "    .dataframe tbody tr th {\n",
       "        vertical-align: top;\n",
       "    }\n",
       "\n",
       "    .dataframe thead th {\n",
       "        text-align: right;\n",
       "    }\n",
       "</style>\n",
       "<table border=\"1\" class=\"dataframe\">\n",
       "  <thead>\n",
       "    <tr style=\"text-align: right;\">\n",
       "      <th></th>\n",
       "      <th>Shipment_ID</th>\n",
       "      <th>Origin_Warehouse</th>\n",
       "      <th>Destination</th>\n",
       "      <th>Carrier</th>\n",
       "      <th>Shipment_Date</th>\n",
       "      <th>Delivery_Date</th>\n",
       "      <th>Weight_kg</th>\n",
       "      <th>Cost</th>\n",
       "      <th>Status</th>\n",
       "      <th>Distance_miles</th>\n",
       "      <th>Transit_Days</th>\n",
       "      <th>Transit_days</th>\n",
       "    </tr>\n",
       "  </thead>\n",
       "  <tbody>\n",
       "    <tr>\n",
       "      <th>1998</th>\n",
       "      <td>11998</td>\n",
       "      <td>Warehouse_SEA</td>\n",
       "      <td>Detroit</td>\n",
       "      <td>USPS</td>\n",
       "      <td>2023-10-17</td>\n",
       "      <td>2023-10-22</td>\n",
       "      <td>10.9</td>\n",
       "      <td>272.31</td>\n",
       "      <td>Delivered</td>\n",
       "      <td>2188</td>\n",
       "      <td>5</td>\n",
       "      <td>5 days</td>\n",
       "    </tr>\n",
       "    <tr>\n",
       "      <th>1999</th>\n",
       "      <td>11999</td>\n",
       "      <td>Warehouse_MIA</td>\n",
       "      <td>Portland</td>\n",
       "      <td>OnTrac</td>\n",
       "      <td>2023-07-08</td>\n",
       "      <td>2023-07-15</td>\n",
       "      <td>49.5</td>\n",
       "      <td>360.74</td>\n",
       "      <td>Delivered</td>\n",
       "      <td>2321</td>\n",
       "      <td>7</td>\n",
       "      <td>7 days</td>\n",
       "    </tr>\n",
       "  </tbody>\n",
       "</table>\n",
       "</div>"
      ],
      "text/plain": [
       "      Shipment_ID Origin_Warehouse Destination Carrier Shipment_Date  \\\n",
       "1998        11998    Warehouse_SEA     Detroit    USPS    2023-10-17   \n",
       "1999        11999    Warehouse_MIA    Portland  OnTrac    2023-07-08   \n",
       "\n",
       "     Delivery_Date  Weight_kg    Cost     Status  Distance_miles  \\\n",
       "1998    2023-10-22       10.9  272.31  Delivered            2188   \n",
       "1999    2023-07-15       49.5  360.74  Delivered            2321   \n",
       "\n",
       "      Transit_Days Transit_days  \n",
       "1998             5       5 days  \n",
       "1999             7       7 days  "
      ]
     },
     "execution_count": 70,
     "metadata": {},
     "output_type": "execute_result"
    }
   ],
   "source": [
    "df.tail(2)# feature engineering "
   ]
  },
  {
   "cell_type": "code",
   "execution_count": 71,
   "id": "b11dcb61-61b9-4577-bd28-0608d149fa04",
   "metadata": {},
   "outputs": [],
   "source": [
    "df1=df.copy()"
   ]
  },
  {
   "cell_type": "code",
   "execution_count": 72,
   "id": "93f06bdf-c4d7-4668-968d-d133e8e788a4",
   "metadata": {},
   "outputs": [
    {
     "data": {
      "text/html": [
       "<div>\n",
       "<style scoped>\n",
       "    .dataframe tbody tr th:only-of-type {\n",
       "        vertical-align: middle;\n",
       "    }\n",
       "\n",
       "    .dataframe tbody tr th {\n",
       "        vertical-align: top;\n",
       "    }\n",
       "\n",
       "    .dataframe thead th {\n",
       "        text-align: right;\n",
       "    }\n",
       "</style>\n",
       "<table border=\"1\" class=\"dataframe\">\n",
       "  <thead>\n",
       "    <tr style=\"text-align: right;\">\n",
       "      <th></th>\n",
       "      <th>Shipment_ID</th>\n",
       "      <th>Origin_Warehouse</th>\n",
       "      <th>Destination</th>\n",
       "      <th>Carrier</th>\n",
       "      <th>Shipment_Date</th>\n",
       "      <th>Delivery_Date</th>\n",
       "      <th>Weight_kg</th>\n",
       "      <th>Cost</th>\n",
       "      <th>Status</th>\n",
       "      <th>Distance_miles</th>\n",
       "      <th>Transit_Days</th>\n",
       "      <th>Transit_days</th>\n",
       "    </tr>\n",
       "  </thead>\n",
       "  <tbody>\n",
       "  </tbody>\n",
       "</table>\n",
       "</div>"
      ],
      "text/plain": [
       "Empty DataFrame\n",
       "Columns: [Shipment_ID, Origin_Warehouse, Destination, Carrier, Shipment_Date, Delivery_Date, Weight_kg, Cost, Status, Distance_miles, Transit_Days, Transit_days]\n",
       "Index: []"
      ]
     },
     "execution_count": 72,
     "metadata": {},
     "output_type": "execute_result"
    }
   ],
   "source": [
    "df1.head(0)"
   ]
  },
  {
   "cell_type": "code",
   "execution_count": 73,
   "id": "214f05c9-790c-4864-b409-7d1a9b11f2aa",
   "metadata": {},
   "outputs": [],
   "source": [
    "df1['Status']=df1['Status'].map({'Delivered':1,'Delayed':0})"
   ]
  },
  {
   "cell_type": "code",
   "execution_count": 74,
   "id": "8e7182ac-5060-4c19-97d5-453695445d0a",
   "metadata": {},
   "outputs": [],
   "source": [
    "#statistics"
   ]
  },
  {
   "cell_type": "code",
   "execution_count": 75,
   "id": "ab80c333-2c93-4215-9aae-87563f514210",
   "metadata": {},
   "outputs": [
    {
     "name": "stdout",
     "output_type": "stream",
     "text": [
      "TtestResult(statistic=0.48584631678198864, pvalue=0.6275332516041623, df=232.7241747844807)\n"
     ]
    }
   ],
   "source": [
    "notdelivered=df1[df1['Status']==0]['Weight_kg']\n",
    "delivered=df1[df1['Status']==1]['Weight_kg']\n",
    "result=ttest_ind(a=notdelivered,b=delivered,equal_var=False)\n",
    "print(result)\n",
    "#not statistically significant"
   ]
  },
  {
   "cell_type": "code",
   "execution_count": 76,
   "id": "ac3d6dcf-23af-4500-b456-c087434a511a",
   "metadata": {},
   "outputs": [
    {
     "name": "stdout",
     "output_type": "stream",
     "text": [
      "TtestResult(statistic=-0.19522277214682798, pvalue=0.8453924857664501, df=227.9029160284724)\n"
     ]
    }
   ],
   "source": [
    "notdelivered=df1[df1['Status']==0]['Cost']\n",
    "delivered=df1[df1['Status']==1]['Cost']\n",
    "result=ttest_ind(a=notdelivered,b=delivered,equal_var=False)\n",
    "print(result)\n",
    "#not statistically significant"
   ]
  },
  {
   "cell_type": "code",
   "execution_count": 77,
   "id": "17ee4a27-407c-4d86-8d1e-e16db1fe2e5b",
   "metadata": {},
   "outputs": [
    {
     "name": "stdout",
     "output_type": "stream",
     "text": [
      "TtestResult(statistic=-0.7674944638169856, pvalue=0.4435668920546587, df=232.32260735737827)\n"
     ]
    }
   ],
   "source": [
    "notdelivered=df1[df1['Status']==0]['Distance_miles']\n",
    "delivered=df1[df1['Status']==1]['Distance_miles']\n",
    "result=ttest_ind(a=notdelivered,b=delivered,equal_var=False)\n",
    "print(result)\n",
    "#not statistically significant"
   ]
  },
  {
   "cell_type": "code",
   "execution_count": 78,
   "id": "a4a81531-9839-4ba0-871a-4e0a6b52e442",
   "metadata": {},
   "outputs": [],
   "source": [
    "#grphs"
   ]
  },
  {
   "cell_type": "code",
   "execution_count": 79,
   "id": "d730bef4-790b-4a8e-b022-5bc0670c5d39",
   "metadata": {},
   "outputs": [
    {
     "name": "stderr",
     "output_type": "stream",
     "text": [
      "C:\\Users\\adilm\\AppData\\Local\\Temp\\ipykernel_20424\\5048812.py:4: FutureWarning: \n",
      "\n",
      "Passing `palette` without assigning `hue` is deprecated and will be removed in v0.14.0. Assign the `x` variable to `hue` and set `legend=False` for the same effect.\n",
      "\n",
      "  sns.barplot(data=h_df,x='Shipment_ID',y='Cost',palette='viridis')\n"
     ]
    },
    {
     "data": {
      "text/plain": [
       "Text(0, 0.5, 'cost in dollars')"
      ]
     },
     "execution_count": 79,
     "metadata": {},
     "output_type": "execute_result"
    },
    {
     "data": {
      "image/png": "[encoded data removed]",
      "text/plain": [
       "<Figure size 1000x500 with 1 Axes>"
      ]
     },
     "metadata": {},
     "output_type": "display_data"
    }
   ],
   "source": [
    "plt.figure(figsize=(10,5))\n",
    "h=df1.groupby(\"Shipment_ID\")['Cost'].sum().sort_values(ascending=False).head(10)\n",
    "h_df=h.reset_index()\n",
    "sns.barplot(data=h_df,x='Shipment_ID',y='Cost',palette='viridis')\n",
    "plt.title(\"Rich shipment id \",fontsize=14)\n",
    "plt.xlabel(\"shipment id\",fontsize=12)\n",
    "plt.ylabel(\"cost in dollars\",fontsize=12)\n"
   ]
  },
  {
   "cell_type": "code",
   "execution_count": 80,
   "id": "4581e2f7-30e8-486d-b787-7ee77d3942ec",
   "metadata": {},
   "outputs": [
    {
     "name": "stderr",
     "output_type": "stream",
     "text": [
      "C:\\Users\\adilm\\AppData\\Local\\Temp\\ipykernel_20424\\1288680383.py:4: FutureWarning: \n",
      "\n",
      "Passing `palette` without assigning `hue` is deprecated and will be removed in v0.14.0. Assign the `x` variable to `hue` and set `legend=False` for the same effect.\n",
      "\n",
      "  sns.barplot(data=h_df,x='Origin_Warehouse',y='Status',palette='viridis')\n"
     ]
    },
    {
     "data": {
      "text/plain": [
       "Text(0, 0.5, 'number of orders')"
      ]
     },
     "execution_count": 80,
     "metadata": {},
     "output_type": "execute_result"
    },
    {
     "data": {
      "image/png": "[encoded data removed]",
      "text/plain": [
       "<Figure size 1500x500 with 1 Axes>"
      ]
     },
     "metadata": {},
     "output_type": "display_data"
    }
   ],
   "source": [
    "plt.figure(figsize=(15,5))\n",
    "h=df1.groupby(\"Origin_Warehouse\")['Status'].sum().sort_values(ascending=False).head(10)\n",
    "h_df=h.reset_index()\n",
    "sns.barplot(data=h_df,x='Origin_Warehouse',y='Status',palette='viridis')\n",
    "plt.title(\"Rich shipment id \",fontsize=14)\n",
    "plt.xlabel(\"Origin_Warehouse\",fontsize=12)\n",
    "plt.ylabel(\"number of orders\",fontsize=12)\n"
   ]
  },
  {
   "cell_type": "code",
   "execution_count": 81,
   "id": "b20f5cd1-795c-4f35-8932-cba62bda0bb7",
   "metadata": {},
   "outputs": [
    {
     "name": "stderr",
     "output_type": "stream",
     "text": [
      "C:\\Users\\adilm\\AppData\\Local\\Temp\\ipykernel_20424\\4131544751.py:4: FutureWarning: \n",
      "\n",
      "Passing `palette` without assigning `hue` is deprecated and will be removed in v0.14.0. Assign the `x` variable to `hue` and set `legend=False` for the same effect.\n",
      "\n",
      "  sns.barplot(data=h_df,x='Destination',y='Status',palette='viridis')\n"
     ]
    },
    {
     "data": {
      "text/plain": [
       "Text(0, 0.5, 'total orders')"
      ]
     },
     "execution_count": 81,
     "metadata": {},
     "output_type": "execute_result"
    },
    {
     "data": {
      "image/png": "[encoded data removed]",
      "text/plain": [
       "<Figure size 1500x500 with 1 Axes>"
      ]
     },
     "metadata": {},
     "output_type": "display_data"
    }
   ],
   "source": [
    "plt.figure(figsize=(15,5))\n",
    "h=df1.groupby(\"Destination\")['Status'].sum().sort_values(ascending=False).head(10)\n",
    "h_df=h.reset_index()\n",
    "sns.barplot(data=h_df,x='Destination',y='Status',palette='viridis')\n",
    "plt.title(\"most loved destination \",fontsize=14)\n",
    "plt.xlabel(\" destination\",fontsize=12)\n",
    "plt.ylabel(\"total orders\",fontsize=12)\n"
   ]
  },
  {
   "cell_type": "code",
   "execution_count": 82,
   "id": "69eafc95-3cf6-4d1d-b492-cdfc72353991",
   "metadata": {},
   "outputs": [
    {
     "name": "stderr",
     "output_type": "stream",
     "text": [
      "C:\\Users\\adilm\\AppData\\Local\\Temp\\ipykernel_20424\\2440131053.py:4: FutureWarning: \n",
      "\n",
      "Passing `palette` without assigning `hue` is deprecated and will be removed in v0.14.0. Assign the `x` variable to `hue` and set `legend=False` for the same effect.\n",
      "\n",
      "  sns.barplot(data=h_df,x='Carrier',y='Status',palette='viridis')\n"
     ]
    },
    {
     "data": {
      "text/plain": [
       "Text(0, 0.5, 'total orders')"
      ]
     },
     "execution_count": 82,
     "metadata": {},
     "output_type": "execute_result"
    },
    {
     "data": {
      "image/png": "[encoded data removed]",
      "text/plain": [
       "<Figure size 1500x500 with 1 Axes>"
      ]
     },
     "metadata": {},
     "output_type": "display_data"
    }
   ],
   "source": [
    "plt.figure(figsize=(15,5))\n",
    "h=df1.groupby(\"Carrier\")['Status'].sum().sort_values(ascending=False).head(10)\n",
    "h_df=h.reset_index()\n",
    "sns.barplot(data=h_df,x='Carrier',y='Status',palette='viridis')\n",
    "plt.title(\"most used carrier\",fontsize=14)\n",
    "plt.xlabel(\" Carrier\",fontsize=12)\n",
    "plt.ylabel(\"total orders\",fontsize=12)"
   ]
  },
  {
   "cell_type": "code",
   "execution_count": 83,
   "id": "917c181b-a11a-4327-b1ad-d2afdc296d54",
   "metadata": {},
   "outputs": [
    {
     "data": {
      "image/png": "[encoded data removed]",
      "text/plain": [
       "<Figure size 600x600 with 1 Axes>"
      ]
     },
     "metadata": {},
     "output_type": "display_data"
    }
   ],
   "source": [
    "delivery_counts = df1['Status'].value_counts()\n",
    "plt.figure(figsize=(6, 6))\n",
    "plt.pie(delivery_counts, labels=delivery_counts.index, autopct='%1.1f%%', startangle=90)\n",
    "plt.title('Delivered vs Delayed Shipments')\n",
    "plt.show()"
   ]
  },
  {
   "cell_type": "code",
   "execution_count": 84,
   "id": "c4ca3aef-e324-4134-b6fe-a070be1370ae",
   "metadata": {},
   "outputs": [
    {
     "data": {
      "text/html": [
       "<div>\n",
       "<style scoped>\n",
       "    .dataframe tbody tr th:only-of-type {\n",
       "        vertical-align: middle;\n",
       "    }\n",
       "\n",
       "    .dataframe tbody tr th {\n",
       "        vertical-align: top;\n",
       "    }\n",
       "\n",
       "    .dataframe thead th {\n",
       "        text-align: right;\n",
       "    }\n",
       "</style>\n",
       "<table border=\"1\" class=\"dataframe\">\n",
       "  <thead>\n",
       "    <tr style=\"text-align: right;\">\n",
       "      <th></th>\n",
       "      <th>Shipment_ID</th>\n",
       "      <th>Origin_Warehouse</th>\n",
       "      <th>Destination</th>\n",
       "      <th>Carrier</th>\n",
       "      <th>Shipment_Date</th>\n",
       "      <th>Delivery_Date</th>\n",
       "      <th>Weight_kg</th>\n",
       "      <th>Cost</th>\n",
       "      <th>Status</th>\n",
       "      <th>Distance_miles</th>\n",
       "      <th>Transit_Days</th>\n",
       "      <th>Transit_days</th>\n",
       "    </tr>\n",
       "  </thead>\n",
       "  <tbody>\n",
       "  </tbody>\n",
       "</table>\n",
       "</div>"
      ],
      "text/plain": [
       "Empty DataFrame\n",
       "Columns: [Shipment_ID, Origin_Warehouse, Destination, Carrier, Shipment_Date, Delivery_Date, Weight_kg, Cost, Status, Distance_miles, Transit_Days, Transit_days]\n",
       "Index: []"
      ]
     },
     "execution_count": 84,
     "metadata": {},
     "output_type": "execute_result"
    }
   ],
   "source": [
    "df1.head(0)"
   ]
  },
  {
   "cell_type": "code",
   "execution_count": 85,
   "id": "939b87d6-54db-46d5-a1a3-ed48c5bed248",
   "metadata": {},
   "outputs": [
    {
     "data": {
      "image/png": "[encoded data removed]",
      "text/plain": [
       "<Figure size 700x200 with 1 Axes>"
      ]
     },
     "metadata": {},
     "output_type": "display_data"
    }
   ],
   "source": [
    "plt.figure(figsize=(7,2))\n",
    "sns.lineplot(data=df1,x='Transit_Days',y=\"Distance_miles\",color='darkblue', linestyle='-', linewidth=2, marker='o', errorbar=None) \n",
    "\n",
    "plt.title(\"transitdays vs distance_miles\",fontsize=14)\n",
    "plt.xlabel(\"transit days\",fontsize=12)\n",
    "plt.ylabel(\"distance in miles\",fontsize=12)\n",
    "plt.show()"
   ]
  },
  {
   "cell_type": "code",
   "execution_count": 86,
   "id": "c96e2c04-b25f-41a9-9b08-4fdc7dc60dce",
   "metadata": {},
   "outputs": [
    {
     "data": {
      "image/png": "[encoded data removed]",
      "text/plain": [
       "<Figure size 700x200 with 1 Axes>"
      ]
     },
     "metadata": {},
     "output_type": "display_data"
    }
   ],
   "source": [
    "plt.figure(figsize=(7, 2))\n",
    "sns.lineplot(data=df1, x='Transit_Days', y='Cost',color='darkblue', linestyle='-', linewidth=2, marker='o', errorbar=None)\n",
    "\n",
    "plt.title(\"Transit Days vs Cost\", fontsize=14)\n",
    "plt.xlabel(\"Transit Days\", fontsize=12)\n",
    "plt.ylabel(\"Cost\", fontsize=12)\n",
    "plt.show()\n"
   ]
  },
  {
   "cell_type": "code",
   "execution_count": 87,
   "id": "2d7e428e-2bc2-4081-97ac-d42c9858928a",
   "metadata": {},
   "outputs": [],
   "source": [
    "df['Shipment_Date']=df['Shipment_Date'].dt.month"
   ]
  },
  {
   "cell_type": "code",
   "execution_count": 88,
   "id": "866d7eb2-11b7-45ac-81d1-5598f5d465d9",
   "metadata": {},
   "outputs": [
    {
     "data": {
      "image/png": "[encoded data removed]",
      "text/plain": [
       "<Figure size 700x200 with 1 Axes>"
      ]
     },
     "metadata": {},
     "output_type": "display_data"
    }
   ],
   "source": [
    "plt.figure(figsize=(7, 2))\n",
    "sns.lineplot(data=None, x=df['Shipment_Date'], y=df['Cost'],color='darkblue', linestyle='-', linewidth=2, marker='o', errorbar=None)\n",
    "\n",
    "plt.title(\"date vs cost\", fontsize=14)\n",
    "plt.xlabel(\"date\", fontsize=12)\n",
    "plt.ylabel(\"Cost\", fontsize=12)\n",
    "plt.show()\n"
   ]
  },
  {
   "cell_type": "code",
   "execution_count": 115,
   "id": "fe0b9b91-1939-4a29-a357-a5dbda7ad479",
   "metadata": {},
   "outputs": [
    {
     "data": {
      "image/png": "[encoded data removed]",
      "text/plain": [
       "<Figure size 640x480 with 2 Axes>"
      ]
     },
     "metadata": {},
     "output_type": "display_data"
    }
   ],
   "source": [
    "sns.heatmap(df1[['Weight_kg','Cost','Status','Distance_miles','Transit_Days']].corr(), annot=True, cmap='coolwarm')\n",
    "plt.title('Correlation Matrix')\n",
    "plt.show()"
   ]
  },
  {
   "cell_type": "code",
   "execution_count": 47,
   "id": "3ae4752f-7ba0-452c-a0d7-4a1fff2ac39c",
   "metadata": {},
   "outputs": [],
   "source": [
    "#now implement  amodel"
   ]
  },
  {
   "cell_type": "code",
   "execution_count": 90,
   "id": "9bbbda73-1992-45d5-817f-1de4978283e0",
   "metadata": {},
   "outputs": [
    {
     "data": {
      "text/plain": [
       "array(['UPS', 'DHL', 'OnTrac', 'FedEx', 'Amazon Logistics', 'LaserShip',\n",
       "       'USPS'], dtype=object)"
      ]
     },
     "execution_count": 90,
     "metadata": {},
     "output_type": "execute_result"
    }
   ],
   "source": [
    "df['Carrier'].unique()"
   ]
  },
  {
   "cell_type": "code",
   "execution_count": 91,
   "id": "7fb85597-e4d4-48c8-ab94-59995eadffb6",
   "metadata": {},
   "outputs": [
    {
     "data": {
      "text/html": [
       "<div>\n",
       "<style scoped>\n",
       "    .dataframe tbody tr th:only-of-type {\n",
       "        vertical-align: middle;\n",
       "    }\n",
       "\n",
       "    .dataframe tbody tr th {\n",
       "        vertical-align: top;\n",
       "    }\n",
       "\n",
       "    .dataframe thead th {\n",
       "        text-align: right;\n",
       "    }\n",
       "</style>\n",
       "<table border=\"1\" class=\"dataframe\">\n",
       "  <thead>\n",
       "    <tr style=\"text-align: right;\">\n",
       "      <th></th>\n",
       "      <th>Shipment_ID</th>\n",
       "      <th>Origin_Warehouse</th>\n",
       "      <th>Destination</th>\n",
       "      <th>Carrier</th>\n",
       "      <th>Shipment_Date</th>\n",
       "      <th>Delivery_Date</th>\n",
       "      <th>Weight_kg</th>\n",
       "      <th>Cost</th>\n",
       "      <th>Status</th>\n",
       "      <th>Distance_miles</th>\n",
       "      <th>Transit_Days</th>\n",
       "      <th>Transit_days</th>\n",
       "    </tr>\n",
       "  </thead>\n",
       "  <tbody>\n",
       "  </tbody>\n",
       "</table>\n",
       "</div>"
      ],
      "text/plain": [
       "Empty DataFrame\n",
       "Columns: [Shipment_ID, Origin_Warehouse, Destination, Carrier, Shipment_Date, Delivery_Date, Weight_kg, Cost, Status, Distance_miles, Transit_Days, Transit_days]\n",
       "Index: []"
      ]
     },
     "execution_count": 91,
     "metadata": {},
     "output_type": "execute_result"
    }
   ],
   "source": [
    "df1.head(0)"
   ]
  },
  {
   "cell_type": "code",
   "execution_count": 93,
   "id": "4b779719-dba0-4ed0-8dc1-b10ba6e3ecb1",
   "metadata": {},
   "outputs": [],
   "source": [
    "df2=df1.drop(columns=['Shipment_ID','Origin_Warehouse','Destination','Shipment_Date','Delivery_Date','Transit_days'])"
   ]
  },
  {
   "cell_type": "code",
   "execution_count": 94,
   "id": "2ce51c5e-463c-448d-a32f-687e71628125",
   "metadata": {},
   "outputs": [
    {
     "data": {
      "text/html": [
       "<div>\n",
       "<style scoped>\n",
       "    .dataframe tbody tr th:only-of-type {\n",
       "        vertical-align: middle;\n",
       "    }\n",
       "\n",
       "    .dataframe tbody tr th {\n",
       "        vertical-align: top;\n",
       "    }\n",
       "\n",
       "    .dataframe thead th {\n",
       "        text-align: right;\n",
       "    }\n",
       "</style>\n",
       "<table border=\"1\" class=\"dataframe\">\n",
       "  <thead>\n",
       "    <tr style=\"text-align: right;\">\n",
       "      <th></th>\n",
       "      <th>Carrier</th>\n",
       "      <th>Weight_kg</th>\n",
       "      <th>Cost</th>\n",
       "      <th>Status</th>\n",
       "      <th>Distance_miles</th>\n",
       "      <th>Transit_Days</th>\n",
       "    </tr>\n",
       "  </thead>\n",
       "  <tbody>\n",
       "    <tr>\n",
       "      <th>0</th>\n",
       "      <td>UPS</td>\n",
       "      <td>25.7</td>\n",
       "      <td>67.46</td>\n",
       "      <td>1.0</td>\n",
       "      <td>291</td>\n",
       "      <td>2</td>\n",
       "    </tr>\n",
       "  </tbody>\n",
       "</table>\n",
       "</div>"
      ],
      "text/plain": [
       "  Carrier  Weight_kg   Cost  Status  Distance_miles  Transit_Days\n",
       "0     UPS       25.7  67.46     1.0             291             2"
      ]
     },
     "execution_count": 94,
     "metadata": {},
     "output_type": "execute_result"
    }
   ],
   "source": [
    "df2.head(1)"
   ]
  },
  {
   "cell_type": "code",
   "execution_count": 95,
   "id": "e1ba154b-6185-431a-9c42-f6fb99d00c78",
   "metadata": {},
   "outputs": [],
   "source": [
    "df2_mew = pd.get_dummies(df2, columns=['Carrier'])"
   ]
  },
  {
   "cell_type": "code",
   "execution_count": 96,
   "id": "a277e086-d745-44d8-97b9-5af13bfbc6c1",
   "metadata": {},
   "outputs": [
    {
     "data": {
      "text/html": [
       "<div>\n",
       "<style scoped>\n",
       "    .dataframe tbody tr th:only-of-type {\n",
       "        vertical-align: middle;\n",
       "    }\n",
       "\n",
       "    .dataframe tbody tr th {\n",
       "        vertical-align: top;\n",
       "    }\n",
       "\n",
       "    .dataframe thead th {\n",
       "        text-align: right;\n",
       "    }\n",
       "</style>\n",
       "<table border=\"1\" class=\"dataframe\">\n",
       "  <thead>\n",
       "    <tr style=\"text-align: right;\">\n",
       "      <th></th>\n",
       "      <th>Weight_kg</th>\n",
       "      <th>Cost</th>\n",
       "      <th>Status</th>\n",
       "      <th>Distance_miles</th>\n",
       "      <th>Transit_Days</th>\n",
       "      <th>Carrier_Amazon Logistics</th>\n",
       "      <th>Carrier_DHL</th>\n",
       "      <th>Carrier_FedEx</th>\n",
       "      <th>Carrier_LaserShip</th>\n",
       "      <th>Carrier_OnTrac</th>\n",
       "      <th>Carrier_UPS</th>\n",
       "      <th>Carrier_USPS</th>\n",
       "    </tr>\n",
       "  </thead>\n",
       "  <tbody>\n",
       "  </tbody>\n",
       "</table>\n",
       "</div>"
      ],
      "text/plain": [
       "Empty DataFrame\n",
       "Columns: [Weight_kg, Cost, Status, Distance_miles, Transit_Days, Carrier_Amazon Logistics, Carrier_DHL, Carrier_FedEx, Carrier_LaserShip, Carrier_OnTrac, Carrier_UPS, Carrier_USPS]\n",
       "Index: []"
      ]
     },
     "execution_count": 96,
     "metadata": {},
     "output_type": "execute_result"
    }
   ],
   "source": [
    "df2_mew.head(0)"
   ]
  },
  {
   "cell_type": "code",
   "execution_count": 97,
   "id": "23dcd4e8-cfd3-4a27-82ec-75de94f7b3d3",
   "metadata": {},
   "outputs": [],
   "source": [
    "carrier_cols = [col for col in df2_mew.columns if col.startswith('Carrier_')]\n",
    "df2_mew[carrier_cols] = df2_mew[carrier_cols].astype(int)"
   ]
  },
  {
   "cell_type": "code",
   "execution_count": 98,
   "id": "442de9d5-68ad-4d54-88b9-008d71b10271",
   "metadata": {},
   "outputs": [
    {
     "name": "stdout",
     "output_type": "stream",
     "text": [
      "<class 'pandas.core.frame.DataFrame'>\n",
      "Index: 1884 entries, 0 to 1999\n",
      "Data columns (total 12 columns):\n",
      " #   Column                    Non-Null Count  Dtype  \n",
      "---  ------                    --------------  -----  \n",
      " 0   Weight_kg                 1884 non-null   float64\n",
      " 1   Cost                      1884 non-null   float64\n",
      " 2   Status                    1738 non-null   float64\n",
      " 3   Distance_miles            1884 non-null   int64  \n",
      " 4   Transit_Days              1884 non-null   int64  \n",
      " 5   Carrier_Amazon Logistics  1884 non-null   int32  \n",
      " 6   Carrier_DHL               1884 non-null   int32  \n",
      " 7   Carrier_FedEx             1884 non-null   int32  \n",
      " 8   Carrier_LaserShip         1884 non-null   int32  \n",
      " 9   Carrier_OnTrac            1884 non-null   int32  \n",
      " 10  Carrier_UPS               1884 non-null   int32  \n",
      " 11  Carrier_USPS              1884 non-null   int32  \n",
      "dtypes: float64(3), int32(7), int64(2)\n",
      "memory usage: 139.8 KB\n"
     ]
    }
   ],
   "source": [
    "df2_mew.info()"
   ]
  },
  {
   "cell_type": "code",
   "execution_count": 99,
   "id": "38463be4-53a7-440a-bd48-377b98d89dcd",
   "metadata": {},
   "outputs": [],
   "source": [
    "df2_mew = df2_mew.dropna(subset=['Status'])"
   ]
  },
  {
   "cell_type": "code",
   "execution_count": 100,
   "id": "6e8826f7-4ee9-4505-b2a0-0cce44bfcf99",
   "metadata": {},
   "outputs": [],
   "source": [
    "\n",
    "y=df2_mew['Transit_Days']\n",
    "x=df2_mew.drop('Transit_Days',axis=True)\n"
   ]
  },
  {
   "cell_type": "code",
   "execution_count": 101,
   "id": "dac1a4de-8780-4f2b-a21c-a76ed1fd9af7",
   "metadata": {},
   "outputs": [],
   "source": [
    "x_train,x_test,y_train,y_test=train_test_split(x,y,test_size=0.2,random_state=42)"
   ]
  },
  {
   "cell_type": "code",
   "execution_count": 102,
   "id": "9638f3f9-b725-479b-91ef-aeb467c39865",
   "metadata": {},
   "outputs": [],
   "source": [
    "model=LinearRegression()"
   ]
  },
  {
   "cell_type": "code",
   "execution_count": 103,
   "id": "bbbf13d2-f99c-4dbe-80bb-0f1048dd6500",
   "metadata": {},
   "outputs": [
    {
     "data": {
      "text/plain": [
       "Weight_kg                   0\n",
       "Cost                        0\n",
       "Status                      0\n",
       "Distance_miles              0\n",
       "Transit_Days                0\n",
       "Carrier_Amazon Logistics    0\n",
       "Carrier_DHL                 0\n",
       "Carrier_FedEx               0\n",
       "Carrier_LaserShip           0\n",
       "Carrier_OnTrac              0\n",
       "Carrier_UPS                 0\n",
       "Carrier_USPS                0\n",
       "dtype: int64"
      ]
     },
     "execution_count": 103,
     "metadata": {},
     "output_type": "execute_result"
    }
   ],
   "source": [
    "df2_mew.isna().sum()"
   ]
  },
  {
   "cell_type": "code",
   "execution_count": 104,
   "id": "eb66f738-825c-4ea9-8d06-1205d7292081",
   "metadata": {},
   "outputs": [],
   "source": [
    "#df2_mew = df2_mew.dropna(subset=['Status'])"
   ]
  },
  {
   "cell_type": "code",
   "execution_count": 105,
   "id": "7dbcdf94-37c6-4fbc-9c2e-2840f8648efb",
   "metadata": {},
   "outputs": [
    {
     "data": {
      "text/html": [
       "<style>#sk-container-id-1 {\n",
       "  /* Definition of color scheme common for light and dark mode */\n",
       "  --sklearn-color-text: #000;\n",
       "  --sklearn-color-text-muted: #666;\n",
       "  --sklearn-color-line: gray;\n",
       "  /* Definition of color scheme for unfitted estimators */\n",
       "  --sklearn-color-unfitted-level-0: #fff5e6;\n",
       "  --sklearn-color-unfitted-level-1: #f6e4d2;\n",
       "  --sklearn-color-unfitted-level-2: #ffe0b3;\n",
       "  --sklearn-color-unfitted-level-3: chocolate;\n",
       "  /* Definition of color scheme for fitted estimators */\n",
       "  --sklearn-color-fitted-level-0: #f0f8ff;\n",
       "  --sklearn-color-fitted-level-1: #d4ebff;\n",
       "  --sklearn-color-fitted-level-2: #b3dbfd;\n",
       "  --sklearn-color-fitted-level-3: cornflowerblue;\n",
       "\n",
       "  /* Specific color for light theme */\n",
       "  --sklearn-color-text-on-default-background: var(--sg-text-color, var(--theme-code-foreground, var(--jp-content-font-color1, black)));\n",
       "  --sklearn-color-background: var(--sg-background-color, var(--theme-background, var(--jp-layout-color0, white)));\n",
       "  --sklearn-color-border-box: var(--sg-text-color, var(--theme-code-foreground, var(--jp-content-font-color1, black)));\n",
       "  --sklearn-color-icon: #696969;\n",
       "\n",
       "  @media (prefers-color-scheme: dark) {\n",
       "    /* Redefinition of color scheme for dark theme */\n",
       "    --sklearn-color-text-on-default-background: var(--sg-text-color, var(--theme-code-foreground, var(--jp-content-font-color1, white)));\n",
       "    --sklearn-color-background: var(--sg-background-color, var(--theme-background, var(--jp-layout-color0, #111)));\n",
       "    --sklearn-color-border-box: var(--sg-text-color, var(--theme-code-foreground, var(--jp-content-font-color1, white)));\n",
       "    --sklearn-color-icon: #878787;\n",
       "  }\n",
       "}\n",
       "\n",
       "#sk-container-id-1 {\n",
       "  color: var(--sklearn-color-text);\n",
       "}\n",
       "\n",
       "#sk-container-id-1 pre {\n",
       "  padding: 0;\n",
       "}\n",
       "\n",
       "#sk-container-id-1 input.sk-hidden--visually {\n",
       "  border: 0;\n",
       "  clip: rect(1px 1px 1px 1px);\n",
       "  clip: rect(1px, 1px, 1px, 1px);\n",
       "  height: 1px;\n",
       "  margin: -1px;\n",
       "  overflow: hidden;\n",
       "  padding: 0;\n",
       "  position: absolute;\n",
       "  width: 1px;\n",
       "}\n",
       "\n",
       "#sk-container-id-1 div.sk-dashed-wrapped {\n",
       "  border: 1px dashed var(--sklearn-color-line);\n",
       "  margin: 0 0.4em 0.5em 0.4em;\n",
       "  box-sizing: border-box;\n",
       "  padding-bottom: 0.4em;\n",
       "  background-color: var(--sklearn-color-background);\n",
       "}\n",
       "\n",
       "#sk-container-id-1 div.sk-container {\n",
       "  /* jupyter's `normalize.less` sets `[hidden] { display: none; }`\n",
       "     but bootstrap.min.css set `[hidden] { display: none !important; }`\n",
       "     so we also need the `!important` here to be able to override the\n",
       "     default hidden behavior on the sphinx rendered scikit-learn.org.\n",
       "     See: https://github.com/scikit-learn/scikit-learn/issues/21755 */\n",
       "  display: inline-block !important;\n",
       "  position: relative;\n",
       "}\n",
       "\n",
       "#sk-container-id-1 div.sk-text-repr-fallback {\n",
       "  display: none;\n",
       "}\n",
       "\n",
       "div.sk-parallel-item,\n",
       "div.sk-serial,\n",
       "div.sk-item {\n",
       "  /* draw centered vertical line to link estimators */\n",
       "  background-image: linear-gradient(var(--sklearn-color-text-on-default-background), var(--sklearn-color-text-on-default-background));\n",
       "  background-size: 2px 100%;\n",
       "  background-repeat: no-repeat;\n",
       "  background-position: center center;\n",
       "}\n",
       "\n",
       "/* Parallel-specific style estimator block */\n",
       "\n",
       "#sk-container-id-1 div.sk-parallel-item::after {\n",
       "  content: \"\";\n",
       "  width: 100%;\n",
       "  border-bottom: 2px solid var(--sklearn-color-text-on-default-background);\n",
       "  flex-grow: 1;\n",
       "}\n",
       "\n",
       "#sk-container-id-1 div.sk-parallel {\n",
       "  display: flex;\n",
       "  align-items: stretch;\n",
       "  justify-content: center;\n",
       "  background-color: var(--sklearn-color-background);\n",
       "  position: relative;\n",
       "}\n",
       "\n",
       "#sk-container-id-1 div.sk-parallel-item {\n",
       "  display: flex;\n",
       "  flex-direction: column;\n",
       "}\n",
       "\n",
       "#sk-container-id-1 div.sk-parallel-item:first-child::after {\n",
       "  align-self: flex-end;\n",
       "  width: 50%;\n",
       "}\n",
       "\n",
       "#sk-container-id-1 div.sk-parallel-item:last-child::after {\n",
       "  align-self: flex-start;\n",
       "  width: 50%;\n",
       "}\n",
       "\n",
       "#sk-container-id-1 div.sk-parallel-item:only-child::after {\n",
       "  width: 0;\n",
       "}\n",
       "\n",
       "/* Serial-specific style estimator block */\n",
       "\n",
       "#sk-container-id-1 div.sk-serial {\n",
       "  display: flex;\n",
       "  flex-direction: column;\n",
       "  align-items: center;\n",
       "  background-color: var(--sklearn-color-background);\n",
       "  padding-right: 1em;\n",
       "  padding-left: 1em;\n",
       "}\n",
       "\n",
       "\n",
       "/* Toggleable style: style used for estimator/Pipeline/ColumnTransformer box that is\n",
       "clickable and can be expanded/collapsed.\n",
       "- Pipeline and ColumnTransformer use this feature and define the default style\n",
       "- Estimators will overwrite some part of the style using the `sk-estimator` class\n",
       "*/\n",
       "\n",
       "/* Pipeline and ColumnTransformer style (default) */\n",
       "\n",
       "#sk-container-id-1 div.sk-toggleable {\n",
       "  /* Default theme specific background. It is overwritten whether we have a\n",
       "  specific estimator or a Pipeline/ColumnTransformer */\n",
       "  background-color: var(--sklearn-color-background);\n",
       "}\n",
       "\n",
       "/* Toggleable label */\n",
       "#sk-container-id-1 label.sk-toggleable__label {\n",
       "  cursor: pointer;\n",
       "  display: flex;\n",
       "  width: 100%;\n",
       "  margin-bottom: 0;\n",
       "  padding: 0.5em;\n",
       "  box-sizing: border-box;\n",
       "  text-align: center;\n",
       "  align-items: start;\n",
       "  justify-content: space-between;\n",
       "  gap: 0.5em;\n",
       "}\n",
       "\n",
       "#sk-container-id-1 label.sk-toggleable__label .caption {\n",
       "  font-size: 0.6rem;\n",
       "  font-weight: lighter;\n",
       "  color: var(--sklearn-color-text-muted);\n",
       "}\n",
       "\n",
       "#sk-container-id-1 label.sk-toggleable__label-arrow:before {\n",
       "  /* Arrow on the left of the label */\n",
       "  content: \"▸\";\n",
       "  float: left;\n",
       "  margin-right: 0.25em;\n",
       "  color: var(--sklearn-color-icon);\n",
       "}\n",
       "\n",
       "#sk-container-id-1 label.sk-toggleable__label-arrow:hover:before {\n",
       "  color: var(--sklearn-color-text);\n",
       "}\n",
       "\n",
       "/* Toggleable content - dropdown */\n",
       "\n",
       "#sk-container-id-1 div.sk-toggleable__content {\n",
       "  max-height: 0;\n",
       "  max-width: 0;\n",
       "  overflow: hidden;\n",
       "  text-align: left;\n",
       "  /* unfitted */\n",
       "  background-color: var(--sklearn-color-unfitted-level-0);\n",
       "}\n",
       "\n",
       "#sk-container-id-1 div.sk-toggleable__content.fitted {\n",
       "  /* fitted */\n",
       "  background-color: var(--sklearn-color-fitted-level-0);\n",
       "}\n",
       "\n",
       "#sk-container-id-1 div.sk-toggleable__content pre {\n",
       "  margin: 0.2em;\n",
       "  border-radius: 0.25em;\n",
       "  color: var(--sklearn-color-text);\n",
       "  /* unfitted */\n",
       "  background-color: var(--sklearn-color-unfitted-level-0);\n",
       "}\n",
       "\n",
       "#sk-container-id-1 div.sk-toggleable__content.fitted pre {\n",
       "  /* unfitted */\n",
       "  background-color: var(--sklearn-color-fitted-level-0);\n",
       "}\n",
       "\n",
       "#sk-container-id-1 input.sk-toggleable__control:checked~div.sk-toggleable__content {\n",
       "  /* Expand drop-down */\n",
       "  max-height: 200px;\n",
       "  max-width: 100%;\n",
       "  overflow: auto;\n",
       "}\n",
       "\n",
       "#sk-container-id-1 input.sk-toggleable__control:checked~label.sk-toggleable__label-arrow:before {\n",
       "  content: \"▾\";\n",
       "}\n",
       "\n",
       "/* Pipeline/ColumnTransformer-specific style */\n",
       "\n",
       "#sk-container-id-1 div.sk-label input.sk-toggleable__control:checked~label.sk-toggleable__label {\n",
       "  color: var(--sklearn-color-text);\n",
       "  background-color: var(--sklearn-color-unfitted-level-2);\n",
       "}\n",
       "\n",
       "#sk-container-id-1 div.sk-label.fitted input.sk-toggleable__control:checked~label.sk-toggleable__label {\n",
       "  background-color: var(--sklearn-color-fitted-level-2);\n",
       "}\n",
       "\n",
       "/* Estimator-specific style */\n",
       "\n",
       "/* Colorize estimator box */\n",
       "#sk-container-id-1 div.sk-estimator input.sk-toggleable__control:checked~label.sk-toggleable__label {\n",
       "  /* unfitted */\n",
       "  background-color: var(--sklearn-color-unfitted-level-2);\n",
       "}\n",
       "\n",
       "#sk-container-id-1 div.sk-estimator.fitted input.sk-toggleable__control:checked~label.sk-toggleable__label {\n",
       "  /* fitted */\n",
       "  background-color: var(--sklearn-color-fitted-level-2);\n",
       "}\n",
       "\n",
       "#sk-container-id-1 div.sk-label label.sk-toggleable__label,\n",
       "#sk-container-id-1 div.sk-label label {\n",
       "  /* The background is the default theme color */\n",
       "  color: var(--sklearn-color-text-on-default-background);\n",
       "}\n",
       "\n",
       "/* On hover, darken the color of the background */\n",
       "#sk-container-id-1 div.sk-label:hover label.sk-toggleable__label {\n",
       "  color: var(--sklearn-color-text);\n",
       "  background-color: var(--sklearn-color-unfitted-level-2);\n",
       "}\n",
       "\n",
       "/* Label box, darken color on hover, fitted */\n",
       "#sk-container-id-1 div.sk-label.fitted:hover label.sk-toggleable__label.fitted {\n",
       "  color: var(--sklearn-color-text);\n",
       "  background-color: var(--sklearn-color-fitted-level-2);\n",
       "}\n",
       "\n",
       "/* Estimator label */\n",
       "\n",
       "#sk-container-id-1 div.sk-label label {\n",
       "  font-family: monospace;\n",
       "  font-weight: bold;\n",
       "  display: inline-block;\n",
       "  line-height: 1.2em;\n",
       "}\n",
       "\n",
       "#sk-container-id-1 div.sk-label-container {\n",
       "  text-align: center;\n",
       "}\n",
       "\n",
       "/* Estimator-specific */\n",
       "#sk-container-id-1 div.sk-estimator {\n",
       "  font-family: monospace;\n",
       "  border: 1px dotted var(--sklearn-color-border-box);\n",
       "  border-radius: 0.25em;\n",
       "  box-sizing: border-box;\n",
       "  margin-bottom: 0.5em;\n",
       "  /* unfitted */\n",
       "  background-color: var(--sklearn-color-unfitted-level-0);\n",
       "}\n",
       "\n",
       "#sk-container-id-1 div.sk-estimator.fitted {\n",
       "  /* fitted */\n",
       "  background-color: var(--sklearn-color-fitted-level-0);\n",
       "}\n",
       "\n",
       "/* on hover */\n",
       "#sk-container-id-1 div.sk-estimator:hover {\n",
       "  /* unfitted */\n",
       "  background-color: var(--sklearn-color-unfitted-level-2);\n",
       "}\n",
       "\n",
       "#sk-container-id-1 div.sk-estimator.fitted:hover {\n",
       "  /* fitted */\n",
       "  background-color: var(--sklearn-color-fitted-level-2);\n",
       "}\n",
       "\n",
       "/* Specification for estimator info (e.g. \"i\" and \"?\") */\n",
       "\n",
       "/* Common style for \"i\" and \"?\" */\n",
       "\n",
       ".sk-estimator-doc-link,\n",
       "a:link.sk-estimator-doc-link,\n",
       "a:visited.sk-estimator-doc-link {\n",
       "  float: right;\n",
       "  font-size: smaller;\n",
       "  line-height: 1em;\n",
       "  font-family: monospace;\n",
       "  background-color: var(--sklearn-color-background);\n",
       "  border-radius: 1em;\n",
       "  height: 1em;\n",
       "  width: 1em;\n",
       "  text-decoration: none !important;\n",
       "  margin-left: 0.5em;\n",
       "  text-align: center;\n",
       "  /* unfitted */\n",
       "  border: var(--sklearn-color-unfitted-level-1) 1pt solid;\n",
       "  color: var(--sklearn-color-unfitted-level-1);\n",
       "}\n",
       "\n",
       ".sk-estimator-doc-link.fitted,\n",
       "a:link.sk-estimator-doc-link.fitted,\n",
       "a:visited.sk-estimator-doc-link.fitted {\n",
       "  /* fitted */\n",
       "  border: var(--sklearn-color-fitted-level-1) 1pt solid;\n",
       "  color: var(--sklearn-color-fitted-level-1);\n",
       "}\n",
       "\n",
       "/* On hover */\n",
       "div.sk-estimator:hover .sk-estimator-doc-link:hover,\n",
       ".sk-estimator-doc-link:hover,\n",
       "div.sk-label-container:hover .sk-estimator-doc-link:hover,\n",
       ".sk-estimator-doc-link:hover {\n",
       "  /* unfitted */\n",
       "  background-color: var(--sklearn-color-unfitted-level-3);\n",
       "  color: var(--sklearn-color-background);\n",
       "  text-decoration: none;\n",
       "}\n",
       "\n",
       "div.sk-estimator.fitted:hover .sk-estimator-doc-link.fitted:hover,\n",
       ".sk-estimator-doc-link.fitted:hover,\n",
       "div.sk-label-container:hover .sk-estimator-doc-link.fitted:hover,\n",
       ".sk-estimator-doc-link.fitted:hover {\n",
       "  /* fitted */\n",
       "  background-color: var(--sklearn-color-fitted-level-3);\n",
       "  color: var(--sklearn-color-background);\n",
       "  text-decoration: none;\n",
       "}\n",
       "\n",
       "/* Span, style for the box shown on hovering the info icon */\n",
       ".sk-estimator-doc-link span {\n",
       "  display: none;\n",
       "  z-index: 9999;\n",
       "  position: relative;\n",
       "  font-weight: normal;\n",
       "  right: .2ex;\n",
       "  padding: .5ex;\n",
       "  margin: .5ex;\n",
       "  width: min-content;\n",
       "  min-width: 20ex;\n",
       "  max-width: 50ex;\n",
       "  color: var(--sklearn-color-text);\n",
       "  box-shadow: 2pt 2pt 4pt #999;\n",
       "  /* unfitted */\n",
       "  background: var(--sklearn-color-unfitted-level-0);\n",
       "  border: .5pt solid var(--sklearn-color-unfitted-level-3);\n",
       "}\n",
       "\n",
       ".sk-estimator-doc-link.fitted span {\n",
       "  /* fitted */\n",
       "  background: var(--sklearn-color-fitted-level-0);\n",
       "  border: var(--sklearn-color-fitted-level-3);\n",
       "}\n",
       "\n",
       ".sk-estimator-doc-link:hover span {\n",
       "  display: block;\n",
       "}\n",
       "\n",
       "/* \"?\"-specific style due to the `<a>` HTML tag */\n",
       "\n",
       "#sk-container-id-1 a.estimator_doc_link {\n",
       "  float: right;\n",
       "  font-size: 1rem;\n",
       "  line-height: 1em;\n",
       "  font-family: monospace;\n",
       "  background-color: var(--sklearn-color-background);\n",
       "  border-radius: 1rem;\n",
       "  height: 1rem;\n",
       "  width: 1rem;\n",
       "  text-decoration: none;\n",
       "  /* unfitted */\n",
       "  color: var(--sklearn-color-unfitted-level-1);\n",
       "  border: var(--sklearn-color-unfitted-level-1) 1pt solid;\n",
       "}\n",
       "\n",
       "#sk-container-id-1 a.estimator_doc_link.fitted {\n",
       "  /* fitted */\n",
       "  border: var(--sklearn-color-fitted-level-1) 1pt solid;\n",
       "  color: var(--sklearn-color-fitted-level-1);\n",
       "}\n",
       "\n",
       "/* On hover */\n",
       "#sk-container-id-1 a.estimator_doc_link:hover {\n",
       "  /* unfitted */\n",
       "  background-color: var(--sklearn-color-unfitted-level-3);\n",
       "  color: var(--sklearn-color-background);\n",
       "  text-decoration: none;\n",
       "}\n",
       "\n",
       "#sk-container-id-1 a.estimator_doc_link.fitted:hover {\n",
       "  /* fitted */\n",
       "  background-color: var(--sklearn-color-fitted-level-3);\n",
       "}\n",
       "</style><div id=\"sk-container-id-1\" class=\"sk-top-container\"><div class=\"sk-text-repr-fallback\"><pre>LinearRegression()</pre><b>In a Jupyter environment, please rerun this cell to show the HTML representation or trust the notebook. <br />On GitHub, the HTML representation is unable to render, please try loading this page with nbviewer.org.</b></div><div class=\"sk-container\" hidden><div class=\"sk-item\"><div class=\"sk-estimator fitted sk-toggleable\"><input class=\"sk-toggleable__control sk-hidden--visually\" id=\"sk-estimator-id-1\" type=\"checkbox\" checked><label for=\"sk-estimator-id-1\" class=\"sk-toggleable__label fitted sk-toggleable__label-arrow\"><div><div>LinearRegression</div></div><div><a class=\"sk-estimator-doc-link fitted\" rel=\"noreferrer\" target=\"_blank\" href=\"https://scikit-learn.org/1.6/modules/generated/sklearn.linear_model.LinearRegression.html\">?<span>Documentation for LinearRegression</span></a><span class=\"sk-estimator-doc-link fitted\">i<span>Fitted</span></span></div></label><div class=\"sk-toggleable__content fitted\"><pre>LinearRegression()</pre></div> </div></div></div></div>"
      ],
      "text/plain": [
       "LinearRegression()"
      ]
     },
     "execution_count": 105,
     "metadata": {},
     "output_type": "execute_result"
    }
   ],
   "source": [
    "model.fit(x_train,y_train)"
   ]
  },
  {
   "cell_type": "code",
   "execution_count": 106,
   "id": "bcc9fce7-e7f0-421d-a580-16aab4e9ead8",
   "metadata": {},
   "outputs": [],
   "source": [
    "prediction=model.predict(x_test)"
   ]
  },
  {
   "cell_type": "code",
   "execution_count": 107,
   "id": "f1cf6707-726d-42c2-a927-1dbbc0b0929d",
   "metadata": {},
   "outputs": [
    {
     "name": "stdout",
     "output_type": "stream",
     "text": [
      "rmse is is 1.2058782054538868\n",
      "mse is 1.4541422463886864\n",
      "the r 2 valuje is 0.538702983309569\n"
     ]
    }
   ],
   "source": [
    "rmse=np.sqrt(mean_squared_error(y_test,prediction))\n",
    "print(f\"rmse is is {rmse}\")\n",
    "mse=mean_squared_error(y_test,prediction)\n",
    "print(f\"mse is {mse}\")\n",
    "r2=r2_score(y_test,prediction)\n",
    "print(f\"the r 2 valuje is {r2}\")"
   ]
  },
  {
   "cell_type": "code",
   "execution_count": 108,
   "id": "81293d97-106e-49e8-852a-6c6d6793d5ca",
   "metadata": {},
   "outputs": [],
   "source": [
    "from sklearn.ensemble import RandomForestRegressor"
   ]
  },
  {
   "cell_type": "code",
   "execution_count": 109,
   "id": "f49696b2-1546-4c9e-aad6-cd601ea39fe0",
   "metadata": {},
   "outputs": [],
   "source": [
    "mode=RandomForestRegressor(n_estimators=100,random_state=42)"
   ]
  },
  {
   "cell_type": "code",
   "execution_count": 111,
   "id": "7d997c72-e371-4f85-a2ca-6206998e7f9e",
   "metadata": {},
   "outputs": [
    {
     "data": {
      "text/html": [
       "<style>#sk-container-id-3 {\n",
       "  /* Definition of color scheme common for light and dark mode */\n",
       "  --sklearn-color-text: #000;\n",
       "  --sklearn-color-text-muted: #666;\n",
       "  --sklearn-color-line: gray;\n",
       "  /* Definition of color scheme for unfitted estimators */\n",
       "  --sklearn-color-unfitted-level-0: #fff5e6;\n",
       "  --sklearn-color-unfitted-level-1: #f6e4d2;\n",
       "  --sklearn-color-unfitted-level-2: #ffe0b3;\n",
       "  --sklearn-color-unfitted-level-3: chocolate;\n",
       "  /* Definition of color scheme for fitted estimators */\n",
       "  --sklearn-color-fitted-level-0: #f0f8ff;\n",
       "  --sklearn-color-fitted-level-1: #d4ebff;\n",
       "  --sklearn-color-fitted-level-2: #b3dbfd;\n",
       "  --sklearn-color-fitted-level-3: cornflowerblue;\n",
       "\n",
       "  /* Specific color for light theme */\n",
       "  --sklearn-color-text-on-default-background: var(--sg-text-color, var(--theme-code-foreground, var(--jp-content-font-color1, black)));\n",
       "  --sklearn-color-background: var(--sg-background-color, var(--theme-background, var(--jp-layout-color0, white)));\n",
       "  --sklearn-color-border-box: var(--sg-text-color, var(--theme-code-foreground, var(--jp-content-font-color1, black)));\n",
       "  --sklearn-color-icon: #696969;\n",
       "\n",
       "  @media (prefers-color-scheme: dark) {\n",
       "    /* Redefinition of color scheme for dark theme */\n",
       "    --sklearn-color-text-on-default-background: var(--sg-text-color, var(--theme-code-foreground, var(--jp-content-font-color1, white)));\n",
       "    --sklearn-color-background: var(--sg-background-color, var(--theme-background, var(--jp-layout-color0, #111)));\n",
       "    --sklearn-color-border-box: var(--sg-text-color, var(--theme-code-foreground, var(--jp-content-font-color1, white)));\n",
       "    --sklearn-color-icon: #878787;\n",
       "  }\n",
       "}\n",
       "\n",
       "#sk-container-id-3 {\n",
       "  color: var(--sklearn-color-text);\n",
       "}\n",
       "\n",
       "#sk-container-id-3 pre {\n",
       "  padding: 0;\n",
       "}\n",
       "\n",
       "#sk-container-id-3 input.sk-hidden--visually {\n",
       "  border: 0;\n",
       "  clip: rect(1px 1px 1px 1px);\n",
       "  clip: rect(1px, 1px, 1px, 1px);\n",
       "  height: 1px;\n",
       "  margin: -1px;\n",
       "  overflow: hidden;\n",
       "  padding: 0;\n",
       "  position: absolute;\n",
       "  width: 1px;\n",
       "}\n",
       "\n",
       "#sk-container-id-3 div.sk-dashed-wrapped {\n",
       "  border: 1px dashed var(--sklearn-color-line);\n",
       "  margin: 0 0.4em 0.5em 0.4em;\n",
       "  box-sizing: border-box;\n",
       "  padding-bottom: 0.4em;\n",
       "  background-color: var(--sklearn-color-background);\n",
       "}\n",
       "\n",
       "#sk-container-id-3 div.sk-container {\n",
       "  /* jupyter's `normalize.less` sets `[hidden] { display: none; }`\n",
       "     but bootstrap.min.css set `[hidden] { display: none !important; }`\n",
       "     so we also need the `!important` here to be able to override the\n",
       "     default hidden behavior on the sphinx rendered scikit-learn.org.\n",
       "     See: https://github.com/scikit-learn/scikit-learn/issues/21755 */\n",
       "  display: inline-block !important;\n",
       "  position: relative;\n",
       "}\n",
       "\n",
       "#sk-container-id-3 div.sk-text-repr-fallback {\n",
       "  display: none;\n",
       "}\n",
       "\n",
       "div.sk-parallel-item,\n",
       "div.sk-serial,\n",
       "div.sk-item {\n",
       "  /* draw centered vertical line to link estimators */\n",
       "  background-image: linear-gradient(var(--sklearn-color-text-on-default-background), var(--sklearn-color-text-on-default-background));\n",
       "  background-size: 2px 100%;\n",
       "  background-repeat: no-repeat;\n",
       "  background-position: center center;\n",
       "}\n",
       "\n",
       "/* Parallel-specific style estimator block */\n",
       "\n",
       "#sk-container-id-3 div.sk-parallel-item::after {\n",
       "  content: \"\";\n",
       "  width: 100%;\n",
       "  border-bottom: 2px solid var(--sklearn-color-text-on-default-background);\n",
       "  flex-grow: 1;\n",
       "}\n",
       "\n",
       "#sk-container-id-3 div.sk-parallel {\n",
       "  display: flex;\n",
       "  align-items: stretch;\n",
       "  justify-content: center;\n",
       "  background-color: var(--sklearn-color-background);\n",
       "  position: relative;\n",
       "}\n",
       "\n",
       "#sk-container-id-3 div.sk-parallel-item {\n",
       "  display: flex;\n",
       "  flex-direction: column;\n",
       "}\n",
       "\n",
       "#sk-container-id-3 div.sk-parallel-item:first-child::after {\n",
       "  align-self: flex-end;\n",
       "  width: 50%;\n",
       "}\n",
       "\n",
       "#sk-container-id-3 div.sk-parallel-item:last-child::after {\n",
       "  align-self: flex-start;\n",
       "  width: 50%;\n",
       "}\n",
       "\n",
       "#sk-container-id-3 div.sk-parallel-item:only-child::after {\n",
       "  width: 0;\n",
       "}\n",
       "\n",
       "/* Serial-specific style estimator block */\n",
       "\n",
       "#sk-container-id-3 div.sk-serial {\n",
       "  display: flex;\n",
       "  flex-direction: column;\n",
       "  align-items: center;\n",
       "  background-color: var(--sklearn-color-background);\n",
       "  padding-right: 1em;\n",
       "  padding-left: 1em;\n",
       "}\n",
       "\n",
       "\n",
       "/* Toggleable style: style used for estimator/Pipeline/ColumnTransformer box that is\n",
       "clickable and can be expanded/collapsed.\n",
       "- Pipeline and ColumnTransformer use this feature and define the default style\n",
       "- Estimators will overwrite some part of the style using the `sk-estimator` class\n",
       "*/\n",
       "\n",
       "/* Pipeline and ColumnTransformer style (default) */\n",
       "\n",
       "#sk-container-id-3 div.sk-toggleable {\n",
       "  /* Default theme specific background. It is overwritten whether we have a\n",
       "  specific estimator or a Pipeline/ColumnTransformer */\n",
       "  background-color: var(--sklearn-color-background);\n",
       "}\n",
       "\n",
       "/* Toggleable label */\n",
       "#sk-container-id-3 label.sk-toggleable__label {\n",
       "  cursor: pointer;\n",
       "  display: flex;\n",
       "  width: 100%;\n",
       "  margin-bottom: 0;\n",
       "  padding: 0.5em;\n",
       "  box-sizing: border-box;\n",
       "  text-align: center;\n",
       "  align-items: start;\n",
       "  justify-content: space-between;\n",
       "  gap: 0.5em;\n",
       "}\n",
       "\n",
       "#sk-container-id-3 label.sk-toggleable__label .caption {\n",
       "  font-size: 0.6rem;\n",
       "  font-weight: lighter;\n",
       "  color: var(--sklearn-color-text-muted);\n",
       "}\n",
       "\n",
       "#sk-container-id-3 label.sk-toggleable__label-arrow:before {\n",
       "  /* Arrow on the left of the label */\n",
       "  content: \"▸\";\n",
       "  float: left;\n",
       "  margin-right: 0.25em;\n",
       "  color: var(--sklearn-color-icon);\n",
       "}\n",
       "\n",
       "#sk-container-id-3 label.sk-toggleable__label-arrow:hover:before {\n",
       "  color: var(--sklearn-color-text);\n",
       "}\n",
       "\n",
       "/* Toggleable content - dropdown */\n",
       "\n",
       "#sk-container-id-3 div.sk-toggleable__content {\n",
       "  max-height: 0;\n",
       "  max-width: 0;\n",
       "  overflow: hidden;\n",
       "  text-align: left;\n",
       "  /* unfitted */\n",
       "  background-color: var(--sklearn-color-unfitted-level-0);\n",
       "}\n",
       "\n",
       "#sk-container-id-3 div.sk-toggleable__content.fitted {\n",
       "  /* fitted */\n",
       "  background-color: var(--sklearn-color-fitted-level-0);\n",
       "}\n",
       "\n",
       "#sk-container-id-3 div.sk-toggleable__content pre {\n",
       "  margin: 0.2em;\n",
       "  border-radius: 0.25em;\n",
       "  color: var(--sklearn-color-text);\n",
       "  /* unfitted */\n",
       "  background-color: var(--sklearn-color-unfitted-level-0);\n",
       "}\n",
       "\n",
       "#sk-container-id-3 div.sk-toggleable__content.fitted pre {\n",
       "  /* unfitted */\n",
       "  background-color: var(--sklearn-color-fitted-level-0);\n",
       "}\n",
       "\n",
       "#sk-container-id-3 input.sk-toggleable__control:checked~div.sk-toggleable__content {\n",
       "  /* Expand drop-down */\n",
       "  max-height: 200px;\n",
       "  max-width: 100%;\n",
       "  overflow: auto;\n",
       "}\n",
       "\n",
       "#sk-container-id-3 input.sk-toggleable__control:checked~label.sk-toggleable__label-arrow:before {\n",
       "  content: \"▾\";\n",
       "}\n",
       "\n",
       "/* Pipeline/ColumnTransformer-specific style */\n",
       "\n",
       "#sk-container-id-3 div.sk-label input.sk-toggleable__control:checked~label.sk-toggleable__label {\n",
       "  color: var(--sklearn-color-text);\n",
       "  background-color: var(--sklearn-color-unfitted-level-2);\n",
       "}\n",
       "\n",
       "#sk-container-id-3 div.sk-label.fitted input.sk-toggleable__control:checked~label.sk-toggleable__label {\n",
       "  background-color: var(--sklearn-color-fitted-level-2);\n",
       "}\n",
       "\n",
       "/* Estimator-specific style */\n",
       "\n",
       "/* Colorize estimator box */\n",
       "#sk-container-id-3 div.sk-estimator input.sk-toggleable__control:checked~label.sk-toggleable__label {\n",
       "  /* unfitted */\n",
       "  background-color: var(--sklearn-color-unfitted-level-2);\n",
       "}\n",
       "\n",
       "#sk-container-id-3 div.sk-estimator.fitted input.sk-toggleable__control:checked~label.sk-toggleable__label {\n",
       "  /* fitted */\n",
       "  background-color: var(--sklearn-color-fitted-level-2);\n",
       "}\n",
       "\n",
       "#sk-container-id-3 div.sk-label label.sk-toggleable__label,\n",
       "#sk-container-id-3 div.sk-label label {\n",
       "  /* The background is the default theme color */\n",
       "  color: var(--sklearn-color-text-on-default-background);\n",
       "}\n",
       "\n",
       "/* On hover, darken the color of the background */\n",
       "#sk-container-id-3 div.sk-label:hover label.sk-toggleable__label {\n",
       "  color: var(--sklearn-color-text);\n",
       "  background-color: var(--sklearn-color-unfitted-level-2);\n",
       "}\n",
       "\n",
       "/* Label box, darken color on hover, fitted */\n",
       "#sk-container-id-3 div.sk-label.fitted:hover label.sk-toggleable__label.fitted {\n",
       "  color: var(--sklearn-color-text);\n",
       "  background-color: var(--sklearn-color-fitted-level-2);\n",
       "}\n",
       "\n",
       "/* Estimator label */\n",
       "\n",
       "#sk-container-id-3 div.sk-label label {\n",
       "  font-family: monospace;\n",
       "  font-weight: bold;\n",
       "  display: inline-block;\n",
       "  line-height: 1.2em;\n",
       "}\n",
       "\n",
       "#sk-container-id-3 div.sk-label-container {\n",
       "  text-align: center;\n",
       "}\n",
       "\n",
       "/* Estimator-specific */\n",
       "#sk-container-id-3 div.sk-estimator {\n",
       "  font-family: monospace;\n",
       "  border: 1px dotted var(--sklearn-color-border-box);\n",
       "  border-radius: 0.25em;\n",
       "  box-sizing: border-box;\n",
       "  margin-bottom: 0.5em;\n",
       "  /* unfitted */\n",
       "  background-color: var(--sklearn-color-unfitted-level-0);\n",
       "}\n",
       "\n",
       "#sk-container-id-3 div.sk-estimator.fitted {\n",
       "  /* fitted */\n",
       "  background-color: var(--sklearn-color-fitted-level-0);\n",
       "}\n",
       "\n",
       "/* on hover */\n",
       "#sk-container-id-3 div.sk-estimator:hover {\n",
       "  /* unfitted */\n",
       "  background-color: var(--sklearn-color-unfitted-level-2);\n",
       "}\n",
       "\n",
       "#sk-container-id-3 div.sk-estimator.fitted:hover {\n",
       "  /* fitted */\n",
       "  background-color: var(--sklearn-color-fitted-level-2);\n",
       "}\n",
       "\n",
       "/* Specification for estimator info (e.g. \"i\" and \"?\") */\n",
       "\n",
       "/* Common style for \"i\" and \"?\" */\n",
       "\n",
       ".sk-estimator-doc-link,\n",
       "a:link.sk-estimator-doc-link,\n",
       "a:visited.sk-estimator-doc-link {\n",
       "  float: right;\n",
       "  font-size: smaller;\n",
       "  line-height: 1em;\n",
       "  font-family: monospace;\n",
       "  background-color: var(--sklearn-color-background);\n",
       "  border-radius: 1em;\n",
       "  height: 1em;\n",
       "  width: 1em;\n",
       "  text-decoration: none !important;\n",
       "  margin-left: 0.5em;\n",
       "  text-align: center;\n",
       "  /* unfitted */\n",
       "  border: var(--sklearn-color-unfitted-level-1) 1pt solid;\n",
       "  color: var(--sklearn-color-unfitted-level-1);\n",
       "}\n",
       "\n",
       ".sk-estimator-doc-link.fitted,\n",
       "a:link.sk-estimator-doc-link.fitted,\n",
       "a:visited.sk-estimator-doc-link.fitted {\n",
       "  /* fitted */\n",
       "  border: var(--sklearn-color-fitted-level-1) 1pt solid;\n",
       "  color: var(--sklearn-color-fitted-level-1);\n",
       "}\n",
       "\n",
       "/* On hover */\n",
       "div.sk-estimator:hover .sk-estimator-doc-link:hover,\n",
       ".sk-estimator-doc-link:hover,\n",
       "div.sk-label-container:hover .sk-estimator-doc-link:hover,\n",
       ".sk-estimator-doc-link:hover {\n",
       "  /* unfitted */\n",
       "  background-color: var(--sklearn-color-unfitted-level-3);\n",
       "  color: var(--sklearn-color-background);\n",
       "  text-decoration: none;\n",
       "}\n",
       "\n",
       "div.sk-estimator.fitted:hover .sk-estimator-doc-link.fitted:hover,\n",
       ".sk-estimator-doc-link.fitted:hover,\n",
       "div.sk-label-container:hover .sk-estimator-doc-link.fitted:hover,\n",
       ".sk-estimator-doc-link.fitted:hover {\n",
       "  /* fitted */\n",
       "  background-color: var(--sklearn-color-fitted-level-3);\n",
       "  color: var(--sklearn-color-background);\n",
       "  text-decoration: none;\n",
       "}\n",
       "\n",
       "/* Span, style for the box shown on hovering the info icon */\n",
       ".sk-estimator-doc-link span {\n",
       "  display: none;\n",
       "  z-index: 9999;\n",
       "  position: relative;\n",
       "  font-weight: normal;\n",
       "  right: .2ex;\n",
       "  padding: .5ex;\n",
       "  margin: .5ex;\n",
       "  width: min-content;\n",
       "  min-width: 20ex;\n",
       "  max-width: 50ex;\n",
       "  color: var(--sklearn-color-text);\n",
       "  box-shadow: 2pt 2pt 4pt #999;\n",
       "  /* unfitted */\n",
       "  background: var(--sklearn-color-unfitted-level-0);\n",
       "  border: .5pt solid var(--sklearn-color-unfitted-level-3);\n",
       "}\n",
       "\n",
       ".sk-estimator-doc-link.fitted span {\n",
       "  /* fitted */\n",
       "  background: var(--sklearn-color-fitted-level-0);\n",
       "  border: var(--sklearn-color-fitted-level-3);\n",
       "}\n",
       "\n",
       ".sk-estimator-doc-link:hover span {\n",
       "  display: block;\n",
       "}\n",
       "\n",
       "/* \"?\"-specific style due to the `<a>` HTML tag */\n",
       "\n",
       "#sk-container-id-3 a.estimator_doc_link {\n",
       "  float: right;\n",
       "  font-size: 1rem;\n",
       "  line-height: 1em;\n",
       "  font-family: monospace;\n",
       "  background-color: var(--sklearn-color-background);\n",
       "  border-radius: 1rem;\n",
       "  height: 1rem;\n",
       "  width: 1rem;\n",
       "  text-decoration: none;\n",
       "  /* unfitted */\n",
       "  color: var(--sklearn-color-unfitted-level-1);\n",
       "  border: var(--sklearn-color-unfitted-level-1) 1pt solid;\n",
       "}\n",
       "\n",
       "#sk-container-id-3 a.estimator_doc_link.fitted {\n",
       "  /* fitted */\n",
       "  border: var(--sklearn-color-fitted-level-1) 1pt solid;\n",
       "  color: var(--sklearn-color-fitted-level-1);\n",
       "}\n",
       "\n",
       "/* On hover */\n",
       "#sk-container-id-3 a.estimator_doc_link:hover {\n",
       "  /* unfitted */\n",
       "  background-color: var(--sklearn-color-unfitted-level-3);\n",
       "  color: var(--sklearn-color-background);\n",
       "  text-decoration: none;\n",
       "}\n",
       "\n",
       "#sk-container-id-3 a.estimator_doc_link.fitted:hover {\n",
       "  /* fitted */\n",
       "  background-color: var(--sklearn-color-fitted-level-3);\n",
       "}\n",
       "</style><div id=\"sk-container-id-3\" class=\"sk-top-container\"><div class=\"sk-text-repr-fallback\"><pre>RandomForestRegressor(random_state=42)</pre><b>In a Jupyter environment, please rerun this cell to show the HTML representation or trust the notebook. <br />On GitHub, the HTML representation is unable to render, please try loading this page with nbviewer.org.</b></div><div class=\"sk-container\" hidden><div class=\"sk-item\"><div class=\"sk-estimator fitted sk-toggleable\"><input class=\"sk-toggleable__control sk-hidden--visually\" id=\"sk-estimator-id-3\" type=\"checkbox\" checked><label for=\"sk-estimator-id-3\" class=\"sk-toggleable__label fitted sk-toggleable__label-arrow\"><div><div>RandomForestRegressor</div></div><div><a class=\"sk-estimator-doc-link fitted\" rel=\"noreferrer\" target=\"_blank\" href=\"https://scikit-learn.org/1.6/modules/generated/sklearn.ensemble.RandomForestRegressor.html\">?<span>Documentation for RandomForestRegressor</span></a><span class=\"sk-estimator-doc-link fitted\">i<span>Fitted</span></span></div></label><div class=\"sk-toggleable__content fitted\"><pre>RandomForestRegressor(random_state=42)</pre></div> </div></div></div></div>"
      ],
      "text/plain": [
       "RandomForestRegressor(random_state=42)"
      ]
     },
     "execution_count": 111,
     "metadata": {},
     "output_type": "execute_result"
    }
   ],
   "source": [
    "mode.fit(x_train,y_train)"
   ]
  },
  {
   "cell_type": "code",
   "execution_count": 112,
   "id": "0b63ee99-d0da-4dd0-bf34-95390f191e06",
   "metadata": {},
   "outputs": [],
   "source": [
    "predeict=model.predict(x_test)"
   ]
  },
  {
   "cell_type": "code",
   "execution_count": 114,
   "id": "bfa39fc8-a2a6-45e4-ad35-d5be5a982e41",
   "metadata": {},
   "outputs": [
    {
     "name": "stdout",
     "output_type": "stream",
     "text": [
      "rmse is is 1.2058782054538868\n",
      "mse is 1.4541422463886864\n",
      "the r 2 valuje is 0.538702983309569\n"
     ]
    }
   ],
   "source": [
    "rmse=np.sqrt(mean_squared_error(y_test,predeict))\n",
    "print(f\"rmse is is {rmse}\")\n",
    "mse=mean_squared_error(y_test,predeict)\n",
    "print(f\"mse is {mse}\")\n",
    "r2=r2_score(y_test,predeict)\n",
    "print(f\"the r 2 valuje is {r2}\")"
   ]
  },
  {
   "cell_type": "code",
   "execution_count": null,
   "id": "493c6b14-6057-4426-9960-4ae21780276f",
   "metadata": {},
   "outputs": [],
   "source": []
  },
  {
   "cell_type": "code",
   "execution_count": null,
   "id": "724c28e3-6226-4cf6-ac02-c0ee72bdb43a",
   "metadata": {},
   "outputs": [],
   "source": []
  }
 ],
 "metadata": {
  "kernelspec": {
   "display_name": "Python 3 (ipykernel)",
   "language": "python",
   "name": "python3"
  },
  "language_info": {
   "codemirror_mode": {
    "name": "ipython",
    "version": 3
   },
   "file_extension": ".py",
   "mimetype": "text/x-python",
   "name": "python",
   "nbconvert_exporter": "python",
   "pygments_lexer": "ipython3",
   "version": "3.12.7"
  }
 },
 "nbformat": 4,
 "nbformat_minor": 5
}
